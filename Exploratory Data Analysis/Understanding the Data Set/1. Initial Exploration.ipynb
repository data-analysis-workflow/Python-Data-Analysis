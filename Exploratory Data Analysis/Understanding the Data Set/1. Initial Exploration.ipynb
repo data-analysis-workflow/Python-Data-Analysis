{
 "cells": [
  {
   "cell_type": "markdown",
   "metadata": {},
   "source": [
    "# **A first look with .head()**"
   ]
  },
  {
   "cell_type": "markdown",
   "metadata": {},
   "source": [
    "- Let's begin by importing a dataset and reviewing some useful pandas methods for initial exploration! \n",
    "- We'll import the books data from a csv file using pd.read_csv and save it as a DataFrame called \"books\". \n",
    "- Taking a look at the top of the DataFrame using the head function, we can see that our data contains columns representing book names, authors, ratings, publishing years, and genres."
   ]
  },
  {
   "cell_type": "code",
   "execution_count": null,
   "metadata": {},
   "outputs": [],
   "source": [
    "# Import the pandas library\n",
    "import pandas as pd\n",
    "\n",
    "# Read the CSV file into a pandas DataFrame\n",
    "books = pd.read_csv(\"books.csv\")"
   ]
  },
  {
   "cell_type": "code",
   "execution_count": null,
   "metadata": {},
   "outputs": [],
   "source": [
    "# Display the first few rows of the DataFrame\n",
    "books.head()"
   ]
  },
  {
   "cell_type": "code",
   "execution_count": null,
   "metadata": {
    "vscode": {
     "languageId": "sql"
    }
   },
   "outputs": [],
   "source": [
    "                         name |                   author | rating | year |       genre |\n",
    "------------------------------|--------------------------|--------|------|-------------|                         \n",
    "10-Day Green Smoothie Cleanse |                 JJ Smith |   4.73 | 2016 | Non Fiction |\n",
    "            11/22/63: A Novel |             Stephen King |   4.62 | 2011 |     Fiction |\n",
    "            12 Rules for Life |       Jordan B. Peterson |   4.69 | 2018 | Non Fiction |\n",
    "       1984 (Signet Classics) |            George Orwell |   4.73 | 2017 |     Fiction |\n",
    "          5,000 Awesome Facts | National Geographic Kids |   4.81 | 2019 |   Childrens |"
   ]
  },
  {
   "cell_type": "markdown",
   "metadata": {},
   "source": [
    "# **Gathering more .info()**"
   ]
  },
  {
   "cell_type": "code",
   "execution_count": null,
   "metadata": {},
   "outputs": [],
   "source": [
    "books.info()"
   ]
  },
  {
   "cell_type": "code",
   "execution_count": null,
   "metadata": {
    "vscode": {
     "languageId": "sql"
    }
   },
   "outputs": [],
   "source": [
    "<class 'pandas.core.frame.DataFrame'>\n",
    "RangeIndex: 350 entries, 0 to 349\n",
    "Data columns (total 5 columns):\n",
    " #   Column  Non-Null Count  Dtype  \n",
    "---  ------  --------------  -----  \n",
    " 0   name    350 non-null    object \n",
    " 1   author  350 non-null    object \n",
    " 2   rating  350 non-null    float64\n",
    " 3   year    350 non-null    int64  \n",
    " 4   genre   350 non-null    object \n",
    "dtypes: float64(1), int64(1), object(3)\n",
    "memory usage: 13.8+ KB"
   ]
  },
  {
   "cell_type": "markdown",
   "metadata": {},
   "source": [
    "# **A closer look at Categorical Columns**"
   ]
  },
  {
   "cell_type": "code",
   "execution_count": null,
   "metadata": {},
   "outputs": [],
   "source": [
    "books.value_counts(\"genre\")"
   ]
  },
  {
   "cell_type": "code",
   "execution_count": null,
   "metadata": {
    "vscode": {
     "languageId": "sql"
    }
   },
   "outputs": [],
   "source": [
    "genre\n",
    "Non Fiction    179\n",
    "Fiction        131\n",
    "Childrens       40\n",
    "dtype: int64"
   ]
  },
  {
   "cell_type": "markdown",
   "metadata": {},
   "source": [
    "# **.describe() Numerical Columns**"
   ]
  },
  {
   "cell_type": "code",
   "execution_count": null,
   "metadata": {},
   "outputs": [],
   "source": [
    "books.describe()"
   ]
  },
  {
   "cell_type": "code",
   "execution_count": null,
   "metadata": {
    "vscode": {
     "languageId": "sql"
    }
   },
   "outputs": [],
   "source": [
    "        rating\t    year\n",
    "count\t350.000000  350.000000\n",
    "mean\t4.608571    2013.508571\n",
    "std\t0.226941    3.284711\n",
    "min\t3.300000    2009.000000\n",
    "25%\t4.500000    2010.000000\n",
    "50%\t4.600000    2013.000000\n",
    "75%\t4.800000    2016.000000\n",
    "max\t4.900000    2019.000000"
   ]
  },
  {
   "cell_type": "markdown",
   "metadata": {},
   "source": [
    "# **Visualizing numerical data**"
   ]
  },
  {
   "cell_type": "code",
   "execution_count": null,
   "metadata": {},
   "outputs": [],
   "source": [
    "import seaborn as sns\n",
    "import matplotlib.pyplot as plt\n",
    "\n",
    "sns.histplot(data=books, x=\"rating\")\n",
    "plt.show()"
   ]
  },
  {
   "attachments": {
    "image.png": {
     "image/png": "[encoded data removed]"
    }
   },
   "cell_type": "markdown",
   "metadata": {},
   "source": [
    "![image.png](attachment:image.png)"
   ]
  },
  {
   "cell_type": "markdown",
   "metadata": {},
   "source": [
    "# **Adjusting bin width**"
   ]
  },
  {
   "cell_type": "code",
   "execution_count": null,
   "metadata": {},
   "outputs": [],
   "source": [
    "# Assuming 'books' is your DataFrame with a 'rating' column\n",
    "sns.histplot(data=books, x=\"rating\", binwidth=.1)\n",
    "plt.show()"
   ]
  },
  {
   "attachments": {
    "image.png": {
     "image/png": "[encoded data removed]"
    }
   },
   "cell_type": "markdown",
   "metadata": {},
   "source": [
    "![image.png](attachment:image.png)"
   ]
  }
 ],
 "metadata": {
  "kernelspec": {
   "display_name": "Python 3",
   "language": "python",
   "name": "python3"
  },
  "language_info": {
   "codemirror_mode": {
    "name": "ipython",
    "version": 3
   },
   "file_extension": ".py",
   "mimetype": "text/x-python",
   "name": "python",
   "nbconvert_exporter": "python",
   "pygments_lexer": "ipython3",
   "version": "3.13.0"
  }
 },
 "nbformat": 4,
 "nbformat_minor": 2
}
