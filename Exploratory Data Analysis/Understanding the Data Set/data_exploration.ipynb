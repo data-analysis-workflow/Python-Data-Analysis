{
 "cells": [
  {
   "cell_type": "markdown",
   "metadata": {},
   "source": [
    "**Pandas (for DataFrames and Series)**"
   ]
  },
  {
   "cell_type": "code",
   "execution_count": null,
   "metadata": {
    "vscode": {
     "languageId": "sql"
    }
   },
   "outputs": [],
   "source": [
    "df.head() - Returns the first n rows of a DataFrame (default n=5).\n",
    "df.tail() - Returns the last n rows of a DataFrame (default n=5).\n",
    "df.info() - Provides a summary of the DataFrame, including column types and non-null values.\n",
    "df.describe() - Provides a statistical summary of numeric columns (mean, std, min, 25%, 50%, 75%, max).\n",
    "df.shape - Returns the number of rows and columns in the DataFrame.\n",
    "df.columns - Lists the column names of the DataFrame.\n",
    "df.dtypes - Shows the data type of each column.\n",
    "df.isnull() - Returns a DataFrame of booleans indicating missing values (NaN).\n",
    "df.dropna() - Drops rows or columns with missing values.\n",
    "df.fillna() - Fills missing values with a specific value or method.\n",
    "df.value_counts() - Returns the count of unique values in a column.\n",
    "df.nunique() - Returns the number of unique values in each column.\n",
    "df.unique() - Returns the unique values in a column.\n",
    "df.groupby() - Groups the data based on a column and applies aggregation functions.\n",
    "df.corr() - Computes the correlation between numeric columns.\n",
    "df.sort_values() - Sorts the DataFrame by one or more columns.\n",
    "df.sort_index() - Sorts the DataFrame by its index.\n",
    "df.set_index() - Sets a column as the index of the DataFrame.\n",
    "df.reset_index() - Resets the index of the DataFrame.\n",
    "df.merge() - Merges two DataFrames based on a common column.\n",
    "df.pivot_table() - Creates a pivot table for aggregating data.\n",
    "df.sample() - Randomly selects a specified number of rows."
   ]
  },
  {
   "cell_type": "markdown",
   "metadata": {},
   "source": [
    "**NumPy (for numerical data)**"
   ]
  },
  {
   "cell_type": "code",
   "execution_count": null,
   "metadata": {
    "vscode": {
     "languageId": "sql"
    }
   },
   "outputs": [],
   "source": [
    "np.array() - Creates a NumPy array from a list or another array.\n",
    "np.arange() - Returns an array with evenly spaced values within a given range.\n",
    "np.linspace() - Returns an array of evenly spaced values over a specified range.\n",
    "np.mean() - Computes the mean of an array.\n",
    "np.median() - Computes the median of an array.\n",
    "np.std() - Computes the standard deviation of an array.\n",
    "np.min() - Returns the minimum value of an array.\n",
    "np.max() - Returns the maximum value of an array.\n",
    "np.sum() - Computes the sum of array elements.\n",
    "np.unique() - Returns the unique elements in an array.\n",
    "np.percentile() - Computes the nth percentile of an array.\n",
    "np.corrcoef() - Computes the correlation matrix of two arrays."
   ]
  },
  {
   "cell_type": "markdown",
   "metadata": {},
   "source": [
    "**Matplotlib (for Data Visualization)**"
   ]
  },
  {
   "cell_type": "code",
   "execution_count": null,
   "metadata": {
    "vscode": {
     "languageId": "sql"
    }
   },
   "outputs": [],
   "source": [
    "plt.plot() - Creates a line plot.\n",
    "plt.scatter() - Creates a scatter plot.\n",
    "plt.bar() - Creates a bar plot.\n",
    "plt.hist() - Creates a histogram.\n",
    "plt.boxplot() - Creates a box plot.\n",
    "plt.pie() - Creates a pie chart.\n",
    "plt.title() - Sets the title of the plot.\n",
    "plt.xlabel() - Sets the label for the x-axis.\n",
    "plt.ylabel() - Sets the label for the y-axis.\n",
    "plt.legend() - Displays the legend in the plot.\n",
    "plt.show() - Displays the plot.\n",
    "plt.figure() - Creates a new figure for plotting.\n",
    "plt.tight_layout() - Adjusts the layout to prevent overlapping."
   ]
  },
  {
   "cell_type": "markdown",
   "metadata": {},
   "source": [
    "**Seaborn (for enhanced Data Visualization)**"
   ]
  },
  {
   "cell_type": "code",
   "execution_count": null,
   "metadata": {
    "vscode": {
     "languageId": "sql"
    }
   },
   "outputs": [],
   "source": [
    "sns.countplot() - Creates a bar plot of categorical data counts.\n",
    "sns.boxplot() - Creates a box plot.\n",
    "sns.histplot() - Creates a histogram.\n",
    "sns.barplot() - Creates a bar plot with statistical estimates.\n",
    "sns.heatmap() - Creates a heatmap of a matrix (often used for correlations).\n",
    "sns.pairplot() - Creates pairwise scatter plots between columns.\n",
    "sns.violinplot() - Creates a violin plot to visualize distributions.\n",
    "sns.regplot() - Creates a scatter plot with a regression line.\n",
    "sns.distplot() - Creates a distribution plot (deprecated in favor of sns.histplot()).\n",
    "sns.jointplot() - Creates a scatter plot with marginal histograms or density plots."
   ]
  },
  {
   "cell_type": "markdown",
   "metadata": {},
   "source": [
    "**Scikit-learn (for Data Preprocessing and Machine Learning)**"
   ]
  },
  {
   "cell_type": "code",
   "execution_count": null,
   "metadata": {
    "vscode": {
     "languageId": "sql"
    }
   },
   "outputs": [],
   "source": [
    "train_test_split() - Splits data into training and test sets.\n",
    "StandardScaler() - Scales the data to have a mean of 0 and standard deviation of 1.\n",
    "LabelEncoder() - Encodes categorical labels as numeric values.\n",
    "OneHotEncoder() - One-hot encodes categorical features.\n",
    "KMeans() - Performs k-means clustering.\n",
    "LinearRegression() - Fits a linear regression model.\n",
    "LogisticRegression() - Fits a logistic regression model.\n",
    "RandomForestClassifier() - A Random Forest classifier model.\n",
    "SVC() - Support vector classifier.\n",
    "cross_val_score() - Computes cross-validation scores for a model.\n",
    "GridSearchCV() - Performs hyperparameter tuning using cross-validation."
   ]
  },
  {
   "cell_type": "markdown",
   "metadata": {},
   "source": [
    "**Other Useful Functions**"
   ]
  },
  {
   "cell_type": "code",
   "execution_count": null,
   "metadata": {
    "vscode": {
     "languageId": "sql"
    }
   },
   "outputs": [],
   "source": [
    "len() - Returns the number of elements in an object.\n",
    "type() - Returns the type of an object.\n",
    "str() - Converts an object to a string.\n",
    "round() - Rounds a number to a specified decimal point.\n",
    "zip() - Combines multiple iterables into tuples.\n",
    "map() - Applies a function to all items in an iterable.\n",
    "filter() - Filters elements from an iterable based on a condition.\n",
    "apply() - Applies a function along an axis of a DataFrame or Series.\n",
    "lambda - Defines an anonymous function.\n",
    "applymap() - Applies a function element-wise across a DataFrame."
   ]
  }
 ],
 "metadata": {
  "kernelspec": {
   "display_name": "Python 3",
   "language": "python",
   "name": "python3"
  },
  "language_info": {
   "name": "python",
   "version": "3.13.0"
  }
 },
 "nbformat": 4,
 "nbformat_minor": 2
}
