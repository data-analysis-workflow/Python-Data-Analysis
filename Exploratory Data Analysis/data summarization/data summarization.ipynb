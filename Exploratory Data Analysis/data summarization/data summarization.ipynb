{
 "cells": [
  {
   "cell_type": "markdown",
   "metadata": {},
   "source": [
    "# **Exploring groups of data**"
   ]
  },
  {
   "cell_type": "markdown",
   "metadata": {},
   "source": [
    "- We can explore the characteristics of subsets of data further with the help of the dot-groupby function, which groups data by a given category, allowing the user to chain an aggregating function like dot-mean or dot-count to describe the data within each group. \n",
    "- For example, we can group the books data by genre by passing the genre column name to the groupby function. \n",
    "- Then, we chain an aggregating function, in this case, dot-mean, to find the mean value of the numerical columns for each genre. \n",
    "- The results show that children's books have a higher average rating than other genres."
   ]
  },
  {
   "cell_type": "markdown",
   "metadata": {},
   "source": [
    "- `.groupby()` groups data by category\n",
    "- Aggregating function indicates how to summarize grouped data"
   ]
  },
  {
   "cell_type": "code",
   "execution_count": null,
   "metadata": {},
   "outputs": [],
   "source": [
    "books.groupby(\"genre\").mean()"
   ]
  },
  {
   "cell_type": "code",
   "execution_count": null,
   "metadata": {
    "vscode": {
     "languageId": "sql"
    }
   },
   "outputs": [],
   "source": [
    "|       genre |   rating |        year |\n",
    "|-------------|----------|-------------|\n",
    "|   Childrens | 4.780000 | 2015.075000 |\n",
    "|     Fiction | 4.570229 | 2013.022901 |\n",
    "| Non Fiction | 4.598324 | 2013.513966 |"
   ]
  },
  {
   "cell_type": "markdown",
   "metadata": {},
   "source": [
    "# **Aggregating functions**"
   ]
  },
  {
   "cell_type": "markdown",
   "metadata": {},
   "source": [
    "- Sum: `.sum()`\n",
    "- Count: `.count()`\n",
    "- Minimum: `.min()`\n",
    "- Maximum: `.max()`\n",
    "- Variance: `.var()`\n",
    "- Standard deviation: `.std()`"
   ]
  },
  {
   "cell_type": "markdown",
   "metadata": {},
   "source": [
    "# **Aggregating ungrouped data**"
   ]
  },
  {
   "cell_type": "markdown",
   "metadata": {},
   "source": [
    "- `.agg()` applies aggregating functions across a DataFrame"
   ]
  },
  {
   "cell_type": "code",
   "execution_count": null,
   "metadata": {},
   "outputs": [],
   "source": [
    "books.agg([\"mean\", \"std\"])"
   ]
  },
  {
   "cell_type": "code",
   "execution_count": null,
   "metadata": {
    "vscode": {
     "languageId": "sql"
    }
   },
   "outputs": [],
   "source": [
    "          rating\t       year\n",
    "mean\t4.608571\t2013.508571\n",
    "std  \t0.226941\t    3.28471"
   ]
  },
  {
   "cell_type": "markdown",
   "metadata": {},
   "source": [
    "# **Specifying aggregations for columns**\n",
    "\n",
    "\n",
    "\n"
   ]
  },
  {
   "cell_type": "markdown",
   "metadata": {},
   "source": [
    "-  we can even use a dictionary to specify which aggregation functions to apply to which columns. \n",
    "-  The keys in the dictionary are the columns to apply the aggregation, and each value is a list of the specific aggregating functions to apply to that column."
   ]
  },
  {
   "cell_type": "code",
   "execution_count": null,
   "metadata": {},
   "outputs": [],
   "source": [
    "books.agg({\"rating\": [\"mean\", \"std\"], \"year\": [\"median\"]})"
   ]
  },
  {
   "cell_type": "code",
   "execution_count": null,
   "metadata": {
    "vscode": {
     "languageId": "sql"
    }
   },
   "outputs": [],
   "source": [
    "          rating   year        \n",
    "mean\t4.608571   NaN\n",
    "std\t    0.226941   NaN\n",
    "median\tNaN\t       2013.0"
   ]
  },
  {
   "cell_type": "markdown",
   "metadata": {},
   "source": [
    "# **Named summary columns**"
   ]
  },
  {
   "cell_type": "markdown",
   "metadata": {},
   "source": [
    "- By combining dot-agg and dot-groupby, we can apply these new exploration skills to grouped data. \n",
    "- Maybe we'd like to show the mean and standard deviation of rating for each book genre along with the median year. \n",
    "- We can create named columns with our desired aggregations by using the dot-agg function and creating named tuples inside it. \n",
    "- Each named tuple should include a column name followed by the aggregating function to apply to that column. \n",
    "- The name of the tuple becomes the name of the resulting column. \n",
    "- Now, we can get two summary values of interest about ratings and our year data looks cleaner! We can see that the Fiction genre has the lowest average rating as well as the largest variation in ratings."
   ]
  },
  {
   "cell_type": "code",
   "execution_count": null,
   "metadata": {},
   "outputs": [],
   "source": [
    "books.groupby(\"genre\").agg(\n",
    "    mean_rating=(\"rating\", \"mean\"),\n",
    "    std_rating=(\"rating\", \"std\"),\n",
    "    median_year=(\"year\", \"median\")\n",
    ")"
   ]
  },
  {
   "cell_type": "code",
   "execution_count": null,
   "metadata": {
    "vscode": {
     "languageId": "sql"
    }
   },
   "outputs": [],
   "source": [
    "| genre           | mean_rating  | std_rating  | median_year  |\n",
    "|-----------------|--------------|-------------|--------------|\n",
    "| Childrens       | 4.780000     | 0.122370    | 2015.0       |\n",
    "| Fiction         | 4.570229     | 0.281123    | 2013.0       |\n",
    "| Non Fiction     | 4.598324     | 0.179411    | 2013.0       |"
   ]
  },
  {
   "cell_type": "markdown",
   "metadata": {},
   "source": [
    "# **Visualizing categorical summaries**"
   ]
  },
  {
   "cell_type": "code",
   "execution_count": null,
   "metadata": {},
   "outputs": [],
   "source": [
    "sns.barplot(data=books, x=\"genre\", y=\"rating\")\n",
    "plt.show()"
   ]
  },
  {
   "attachments": {
    "image.png": {
     "image/png": "[encoded data removed]"
    }
   },
   "cell_type": "markdown",
   "metadata": {},
   "source": [
    "![image.png](attachment:image.png)"
   ]
  }
 ],
 "metadata": {
  "language_info": {
   "name": "python"
  }
 },
 "nbformat": 4,
 "nbformat_minor": 2
}
