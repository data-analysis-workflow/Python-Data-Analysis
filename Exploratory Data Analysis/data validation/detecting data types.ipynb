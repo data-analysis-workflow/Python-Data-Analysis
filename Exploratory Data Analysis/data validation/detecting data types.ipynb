{
 "cells": [
  {
   "cell_type": "markdown",
   "metadata": {},
   "source": [
    "# **Detecting data types**"
   ]
  },
  {
   "cell_type": "markdown",
   "metadata": {},
   "source": [
    "- A column has been changed in the unemployment DataFrame and it now has the wrong data type! This data type will stop you from performing effective exploration and analysis, so your task is to identify which column has the wrong data type and then fix it.\n",
    "\n",
    "- pandas has been imported as pd; unemployment is also available."
   ]
  },
  {
   "cell_type": "code",
   "execution_count": null,
   "metadata": {},
   "outputs": [],
   "source": [
    "print(unemployment.dtypes)"
   ]
  },
  {
   "cell_type": "code",
   "execution_count": null,
   "metadata": {
    "vscode": {
     "languageId": "sql"
    }
   },
   "outputs": [],
   "source": [
    "country_code     object\n",
    "country_name     object\n",
    "continent        object\n",
    "2010            float64\n",
    "2011            float64\n",
    "2012            float64\n",
    "2013            float64\n",
    "2014            float64\n",
    "2015            float64\n",
    "2016            float64\n",
    "2017            float64\n",
    "2018            float64\n",
    "2019             object\n",
    "2020            float64\n",
    "2021            float64\n",
    "dtype: object"
   ]
  },
  {
   "cell_type": "markdown",
   "metadata": {},
   "source": [
    "**Instructions**\n",
    "\n",
    "- Update the data type of the 2019 column of unemployment to float.\n",
    "- Print the dtypes of the unemployment DataFrame again to check that the data type has been updated!"
   ]
  },
  {
   "cell_type": "code",
   "execution_count": null,
   "metadata": {},
   "outputs": [],
   "source": [
    "# Update the data type of the 2019 column to a float\n",
    "unemployment[\"2019\"] = unemployment[\"2019\"].astype(float)\n",
    "\n",
    "# Print the dtypes to check your work\n",
    "print(unemployment.dtypes)"
   ]
  },
  {
   "cell_type": "code",
   "execution_count": null,
   "metadata": {
    "vscode": {
     "languageId": "sql"
    }
   },
   "outputs": [],
   "source": [
    "    country_code     object\n",
    "    country_name     object\n",
    "    continent        object\n",
    "    2010            float64\n",
    "    2011            float64\n",
    "    2012            float64\n",
    "    2013            float64\n",
    "    2014            float64\n",
    "    2015            float64\n",
    "    2016            float64\n",
    "    2017            float64\n",
    "    2018            float64\n",
    "    2019            float64\n",
    "    2020            float64\n",
    "    2021            float64\n",
    "    dtype: object"
   ]
  }
 ],
 "metadata": {
  "kernelspec": {
   "display_name": "Python 3",
   "language": "python",
   "name": "python3"
  },
  "language_info": {
   "name": "python",
   "version": "3.13.0"
  }
 },
 "nbformat": 4,
 "nbformat_minor": 2
}
