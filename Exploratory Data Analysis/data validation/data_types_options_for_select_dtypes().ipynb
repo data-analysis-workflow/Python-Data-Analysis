{
 "cells": [
  {
   "cell_type": "markdown",
   "metadata": {},
   "source": [
    "# **Data Types Options for select_dtypes()**"
   ]
  },
  {
   "cell_type": "markdown",
   "metadata": {},
   "source": [
    "1. Numeric Types:\n",
    "\n",
    "   - \"number\": Selects all numeric columns (int64, float64, etc.).\n",
    "   - Examples: int64, float64, complex128, etc.\n",
    "\n",
    "2. String/Object Types:\n",
    "\n",
    "   - \"object\": Selects columns that store strings or mixed types. In pandas, object is used for non-numeric data, like strings or categories.\n",
    "   - Examples: str (strings), category (categorical data).\n",
    "\n",
    "3. Boolean Types:\n",
    "\n",
    "   - \"bool\": Selects columns with boolean values (True or False).\n",
    "   - Examples: bool.\n",
    "\n",
    "4. Datetime Types:\n",
    "\n",
    "   - \"datetime\": Selects columns that store datetime values (datetime64).\n",
    "   - Examples: datetime64[ns], timedelta64.\n",
    "\n",
    "5. Timedelta Types:\n",
    "\n",
    "   - \"timedelta\": Selects columns that store differences in times (e.g., timedelta values).\n",
    "   - Examples: timedelta64[ns].\n",
    "\n",
    "6. Category Types:\n",
    "\n",
    "   - \"category\": Selects columns with categorical data, which pandas uses for optimizing memory and speed with a fixed number of categories.\n",
    "   - Examples: category type.\n",
    "\n",
    "7. Complex Numbers:\n",
    "\n",
    "   - \"complex\": Selects columns with complex number types (complex128).\n",
    "   - Examples: complex128."
   ]
  },
  {
   "cell_type": "markdown",
   "metadata": {},
   "source": [
    "# **Using select_dtypes() with include or exclude**\n",
    "\n",
    "- You can use select_dtypes() with the include parameter to select specific data types or with exclude to exclude certain data types."
   ]
  },
  {
   "cell_type": "markdown",
   "metadata": {},
   "source": [
    "Examples:\n",
    "\n",
    "1. Select only numeric columns:"
   ]
  },
  {
   "cell_type": "code",
   "execution_count": null,
   "metadata": {},
   "outputs": [],
   "source": [
    "numeric_columns = df.select_dtypes(include=\"number\")"
   ]
  },
  {
   "cell_type": "markdown",
   "metadata": {},
   "source": [
    "2. Select only string columns:"
   ]
  },
  {
   "cell_type": "code",
   "execution_count": null,
   "metadata": {},
   "outputs": [],
   "source": [
    "string_columns = df.select_dtypes(include=\"object\")"
   ]
  },
  {
   "cell_type": "markdown",
   "metadata": {},
   "source": [
    "3. Select only boolean columns:"
   ]
  },
  {
   "cell_type": "code",
   "execution_count": null,
   "metadata": {},
   "outputs": [],
   "source": [
    "boolean_columns = df.select_dtypes(include=\"bool\")"
   ]
  },
  {
   "cell_type": "markdown",
   "metadata": {},
   "source": [
    "4. Select only datetime columns:"
   ]
  },
  {
   "cell_type": "code",
   "execution_count": null,
   "metadata": {},
   "outputs": [],
   "source": [
    "datetime_columns = df.select_dtypes(include=\"datetime\")"
   ]
  },
  {
   "cell_type": "markdown",
   "metadata": {},
   "source": [
    "5. Select only categorical columns:"
   ]
  },
  {
   "cell_type": "code",
   "execution_count": null,
   "metadata": {},
   "outputs": [],
   "source": [
    "categorical_columns = df.select_dtypes(include=\"category\")"
   ]
  },
  {
   "cell_type": "markdown",
   "metadata": {},
   "source": [
    "6. Select columns with either integer or float types:"
   ]
  },
  {
   "cell_type": "code",
   "execution_count": null,
   "metadata": {},
   "outputs": [],
   "source": [
    "int_float_columns = df.select_dtypes(include=[\"int64\", \"float64\"])"
   ]
  },
  {
   "cell_type": "markdown",
   "metadata": {},
   "source": [
    "7. Select all columns except numeric ones:"
   ]
  },
  {
   "cell_type": "code",
   "execution_count": null,
   "metadata": {},
   "outputs": [],
   "source": [
    "non_numeric_columns = df.select_dtypes(exclude=\"number\")"
   ]
  },
  {
   "cell_type": "markdown",
   "metadata": {},
   "source": [
    "8. Select columns that are not boolean:"
   ]
  },
  {
   "cell_type": "code",
   "execution_count": null,
   "metadata": {},
   "outputs": [],
   "source": [
    "non_boolean_columns = df.select_dtypes(exclude=\"bool\")"
   ]
  },
  {
   "cell_type": "markdown",
   "metadata": {},
   "source": [
    "**More Examples:**\n"
   ]
  },
  {
   "cell_type": "markdown",
   "metadata": {},
   "source": [
    "- Selecting multiple data types (e.g., numeric and boolean):"
   ]
  },
  {
   "cell_type": "code",
   "execution_count": null,
   "metadata": {},
   "outputs": [],
   "source": [
    "columns = df.select_dtypes(include=[\"number\", \"bool\"])"
   ]
  },
  {
   "cell_type": "markdown",
   "metadata": {},
   "source": [
    "- Excluding a specific data type (e.g., excluding datetime columns):"
   ]
  },
  {
   "cell_type": "code",
   "execution_count": null,
   "metadata": {},
   "outputs": [],
   "source": [
    "columns = df.select_dtypes(exclude=\"datetime\")"
   ]
  },
  {
   "cell_type": "markdown",
   "metadata": {},
   "source": [
    "**Summary of Common Data Type Options:**\n",
    "\n",
    "- \"number\": Numeric types (int64, float64, etc.)\n",
    "- \"object\": String or mixed types (str, category)\n",
    "- \"bool\": Boolean types (True, False)\n",
    "- \"datetime\": Datetime types (datetime64)\n",
    "- \"timedelta\": Timedelta types (timedelta64)\n",
    "- \"category\": Categorical types (category)\n",
    "- \"complex\": Complex number types (complex128)\n",
    "\n",
    "This flexibility allows you to select columns based on their type for specific operations (e.g., mathematical calculations, string manipulation, etc.)."
   ]
  }
 ],
 "metadata": {
  "language_info": {
   "name": "python"
  }
 },
 "nbformat": 4,
 "nbformat_minor": 2
}
