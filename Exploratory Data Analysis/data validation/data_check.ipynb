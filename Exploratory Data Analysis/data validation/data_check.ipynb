{
 "cells": [
  {
   "cell_type": "markdown",
   "metadata": {},
   "source": [
    "isin(): Checks whether each element in the DataFrame or Series is contained in values.\n",
    "\n",
    "- Example: Check if the \"genre\" column contains \"Fiction\" or \"Non Fiction\"."
   ]
  },
  {
   "cell_type": "code",
   "execution_count": null,
   "metadata": {},
   "outputs": [],
   "source": [
    "books[\"genre\"].isin([\"Fiction\", \"Non Fiction\"])"
   ]
  },
  {
   "cell_type": "markdown",
   "metadata": {},
   "source": [
    "pd.api.types.is_numeric_dtype(): Checks if the data type of a Series or DataFrame is numeric.\n",
    "\n",
    "- Example: Check if the \"price\" column is numeric."
   ]
  },
  {
   "cell_type": "code",
   "execution_count": null,
   "metadata": {},
   "outputs": [],
   "source": [
    "pd.api.types.is_numeric_dtype(books[\"price\"])"
   ]
  },
  {
   "cell_type": "markdown",
   "metadata": {},
   "source": [
    "pd.api.types.is_string_dtype(): Checks if the data type of a Series or DataFrame is a string.\n",
    "\n",
    "- Example: Check if the \"title\" column is a string."
   ]
  },
  {
   "cell_type": "code",
   "execution_count": null,
   "metadata": {},
   "outputs": [],
   "source": [
    "pd.api.types.is_string_dtype(books[\"title\"])"
   ]
  },
  {
   "cell_type": "markdown",
   "metadata": {},
   "source": [
    "pd.api.types.is_datetime64_any_dtype(): Checks if the data type of a Series or DataFrame is a datetime.\n",
    "\n",
    "- Example: Check if the \"publication_date\" column is a datetime."
   ]
  },
  {
   "cell_type": "code",
   "execution_count": null,
   "metadata": {},
   "outputs": [],
   "source": [
    "pd.api.types.is_datetime64_any_dtype(books[\"publication_date\"])"
   ]
  },
  {
   "cell_type": "markdown",
   "metadata": {},
   "source": [
    "pd.api.types.is_bool_dtype(): Checks if the data type of a Series or DataFrame is boolean.\n",
    "\n",
    "- Example: Check if the \"available\" column is boolean."
   ]
  },
  {
   "cell_type": "code",
   "execution_count": null,
   "metadata": {},
   "outputs": [],
   "source": [
    "pd.api.types.is_bool_dtype(books[\"available\"])"
   ]
  },
  {
   "cell_type": "markdown",
   "metadata": {},
   "source": [
    "pd.api.types.is_categorical_dtype(): Checks if the data type of a Series or DataFrame is categorical.\n",
    "\n",
    "- Example: Check if the \"genre\" column is categorical."
   ]
  },
  {
   "cell_type": "code",
   "execution_count": null,
   "metadata": {},
   "outputs": [],
   "source": [
    "pd.api.types.is_categorical_dtype(books[\"genre\"])"
   ]
  },
  {
   "cell_type": "markdown",
   "metadata": {},
   "source": [
    "pd.api.types.is_object_dtype(): Checks if the data type of a Series or DataFrame is object (usually strings).\n",
    "\n",
    "- Example: Check if the \"author\" column is of object type."
   ]
  },
  {
   "cell_type": "code",
   "execution_count": null,
   "metadata": {},
   "outputs": [],
   "source": [
    "pd.api.types.is_object_dtype(books[\"author\"])"
   ]
  },
  {
   "cell_type": "markdown",
   "metadata": {},
   "source": [
    "pd.api.types.is_float_dtype(): Checks if the data type of a Series or DataFrame is float.\n",
    "\n",
    "- Example: Check if the \"price\" column is float."
   ]
  },
  {
   "cell_type": "code",
   "execution_count": null,
   "metadata": {},
   "outputs": [],
   "source": [
    "pd.api.types.is_float_dtype(books[\"price\"])"
   ]
  },
  {
   "cell_type": "markdown",
   "metadata": {},
   "source": [
    "pd.api.types.is_integer_dtype(): Checks if the data type of a Series or DataFrame is integer.\n",
    "\n",
    "- Example: Check if the \"year\" column is integer."
   ]
  },
  {
   "cell_type": "code",
   "execution_count": null,
   "metadata": {},
   "outputs": [],
   "source": [
    "pd.api.types.is_integer_dtype(books[\"year\"])"
   ]
  },
  {
   "cell_type": "markdown",
   "metadata": {},
   "source": [
    "pd.to_numeric(): Attempts to convert values to numeric, returns NaN for invalid parsing when errors='coerce' is set.\n",
    "\n",
    "- Example: Check if values in the \"price\" column are numeric."
   ]
  },
  {
   "cell_type": "code",
   "execution_count": null,
   "metadata": {},
   "outputs": [],
   "source": [
    "pd.to_numeric(books[\"price\"], errors='coerce').notna()"
   ]
  },
  {
   "cell_type": "markdown",
   "metadata": {},
   "source": [
    "str.isnumeric(): Checks if each string in a Series is numeric.\n",
    "\n",
    "- Example: Check if values in the \"isbn\" column are numeric strings."
   ]
  },
  {
   "cell_type": "code",
   "execution_count": null,
   "metadata": {},
   "outputs": [],
   "source": [
    "books[\"isbn\"].str.isnumeric()"
   ]
  },
  {
   "cell_type": "markdown",
   "metadata": {},
   "source": [
    "str.isdigit(): Checks if each string in a Series contains only digits.\n",
    "\n",
    "- Example: Check if values in the \"isbn\" column contain only digits."
   ]
  },
  {
   "cell_type": "code",
   "execution_count": null,
   "metadata": {},
   "outputs": [],
   "source": [
    "books[\"isbn\"].str.isdigit()"
   ]
  },
  {
   "cell_type": "markdown",
   "metadata": {},
   "source": [
    "str.isdecimal(): Checks if each string in a Series contains only decimal characters.\n",
    "\n",
    "- Example: Check if values in the \"isbn\" column contain only decimal characters"
   ]
  },
  {
   "cell_type": "code",
   "execution_count": null,
   "metadata": {},
   "outputs": [],
   "source": [
    "books[\"isbn\"].str.isdecimal()"
   ]
  },
  {
   "cell_type": "markdown",
   "metadata": {},
   "source": [
    "str.contains(): Checks if each string in a Series contains a pattern or regex.\n",
    "\n",
    "- Example: Check if values in the \"title\" column contain the word \"Python\"."
   ]
  },
  {
   "cell_type": "code",
   "execution_count": null,
   "metadata": {},
   "outputs": [],
   "source": [
    "books[\"title\"].str.contains(\"Python\")"
   ]
  },
  {
   "cell_type": "markdown",
   "metadata": {},
   "source": [
    "notna(): Checks for non-missing values.\n",
    "\n",
    "- Example: Check if values in the \"author\" column are not missing."
   ]
  },
  {
   "cell_type": "code",
   "execution_count": null,
   "metadata": {},
   "outputs": [],
   "source": [
    "books[\"author\"].notna()"
   ]
  },
  {
   "cell_type": "markdown",
   "metadata": {},
   "source": [
    "isna(): Checks for missing values.\n",
    "\n",
    "- Example: Check if values in the \"author\" column are missing."
   ]
  },
  {
   "cell_type": "code",
   "execution_count": null,
   "metadata": {},
   "outputs": [],
   "source": [
    "books[\"author\"].isna()"
   ]
  }
 ],
 "metadata": {
  "kernelspec": {
   "display_name": "Python 3",
   "language": "python",
   "name": "python3"
  },
  "language_info": {
   "name": "python",
   "version": "3.13.0"
  }
 },
 "nbformat": 4,
 "nbformat_minor": 2
}
