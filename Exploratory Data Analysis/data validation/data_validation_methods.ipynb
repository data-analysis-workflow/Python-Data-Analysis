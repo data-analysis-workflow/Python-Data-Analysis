{
 "cells": [
  {
   "cell_type": "markdown",
   "metadata": {},
   "source": [
    "# **Updating data types**"
   ]
  },
  {
   "cell_type": "markdown",
   "metadata": {},
   "source": [
    "- Luckily, the dot-astype function allows us to change data types without too much effort. \n",
    "- Here, we redefine the year column by selecting the column and calling the dot-astype method, indicating we'd like to change the column to an integer. \n",
    "- Then we use the dot-dtypes attribute to check that the year column data is now stored as integers - and it is!"
   ]
  },
  {
   "cell_type": "code",
   "execution_count": null,
   "metadata": {},
   "outputs": [],
   "source": [
    "# Convert the 'year' column to integer type\n",
    "books[\"year\"] = books[\"year\"].astype(int)\n",
    "\n",
    "# Display the data types of all columns in the DataFrame\n",
    "books.dtypes"
   ]
  },
  {
   "cell_type": "code",
   "execution_count": null,
   "metadata": {
    "vscode": {
     "languageId": "sql"
    }
   },
   "outputs": [],
   "source": [
    "name        object\n",
    "author      object\n",
    "rating     float64\n",
    "year        int64\n",
    "genre       object\n",
    "dtype: object"
   ]
  },
  {
   "cell_type": "code",
   "execution_count": null,
   "metadata": {
    "vscode": {
     "languageId": "sql"
    }
   },
   "outputs": [],
   "source": [
    "Updating data types\n",
    "\n",
    "| Type       | Python Name  |\n",
    "|------------|--------------|\n",
    "| String     | `str`        |\n",
    "| Integer    | `int`        |\n",
    "| Float      | `float`      |\n",
    "| Dictionary | `dict`       |\n",
    "| List       | `list`       |\n",
    "| Boolean    | `bool`       |"
   ]
  },
  {
   "cell_type": "markdown",
   "metadata": {},
   "source": [
    "# **Validating categorical data**"
   ]
  },
  {
   "cell_type": "markdown",
   "metadata": {},
   "source": [
    "- We can validate categorical data by comparing values in a column to a list of expected values using dot-isin, which can either be applied to a Series as we'll show here or to an entire DataFrame. \n",
    "- Let's check whether the values in the genre column are limited to \"Fiction\" and \"Non Fiction\" by passing these genres as a list of strings to dot-isin. \n",
    "- The function returns a Series of the same size and shape as the original but with True and False in place of all values, depending on whether the value from the original Series was included in the list passed to dot-isin.\n",
    "- We can see that some values are False."
   ]
  },
  {
   "cell_type": "code",
   "execution_count": null,
   "metadata": {},
   "outputs": [],
   "source": [
    "books[\"genre\"].isin([\"Fiction\", \"Non Fiction\"])"
   ]
  },
  {
   "cell_type": "code",
   "execution_count": null,
   "metadata": {
    "vscode": {
     "languageId": "sql"
    }
   },
   "outputs": [],
   "source": [
    "0     True\n",
    "1     True\n",
    "2     True\n",
    "3     True\n",
    "4    False\n",
    "...\n",
    "345    True\n",
    "346    True\n",
    "347    True\n",
    "348    True\n",
    "349   False\n",
    "Name: genre, Length: 350, dtype: bool"
   ]
  },
  {
   "cell_type": "markdown",
   "metadata": {},
   "source": [
    "- We can also use the tilde operator at the beginning of the code block to invert the True/ False values so that the function returns True if the value is NOT in the list passed to dot-isin."
   ]
  },
  {
   "cell_type": "code",
   "execution_count": null,
   "metadata": {},
   "outputs": [],
   "source": [
    "~books[\"genre\"].isin([\"Fiction\", \"Non Fiction\"])"
   ]
  },
  {
   "cell_type": "code",
   "execution_count": null,
   "metadata": {
    "vscode": {
     "languageId": "sql"
    }
   },
   "outputs": [],
   "source": [
    "0\tFalse\n",
    "1\tFalse\n",
    "2\tFalse\n",
    "3\tFalse\n",
    "4\tTrue\n",
    "...\n",
    "345\tFalse\n",
    "346\tFalse\n",
    "347\tFalse\n",
    "348\tFalse\n",
    "349\tTrue\n",
    "Name: genre, Length: 350, dtype: bool"
   ]
  },
  {
   "cell_type": "markdown",
   "metadata": {},
   "source": [
    "- And if we're interested in filtering the DataFrame for only values that are in our list, we can use the isin code we just wrote to filter using Boolean indexing!"
   ]
  },
  {
   "cell_type": "code",
   "execution_count": null,
   "metadata": {},
   "outputs": [],
   "source": [
    "books[books[\"genre\"].isin([\"Fiction\", \"Non Fiction\"])].head()"
   ]
  },
  {
   "cell_type": "code",
   "execution_count": null,
   "metadata": {
    "vscode": {
     "languageId": "sql"
    }
   },
   "outputs": [],
   "source": [
    "                             name |              author | rating | year |       genre |\n",
    "--|-------------------------------|---------------------|--------|------|-------------|\n",
    "0 | 10-Day Green Smoothie Cleanse |            JJ Smith |    4.7 | 2016 | Non Fiction |\n",
    "1 | 11/22/63: A Novel             |        Stephen King |    4.6 | 2011 |     Fiction |\n",
    "2 | 12 Rules for Life             |  Jordan B. Peterson |    4.7 | 2018 | Non Fiction |\n",
    "3 | 1984 (Signet Classics)        | George Orwell       |    4.7 | 2017 |     Fiction |\n",
    "5 | A Dance with Dragons          | George R. R. Martin |    4.4 | 2011 |     Fiction |"
   ]
  },
  {
   "cell_type": "markdown",
   "metadata": {},
   "source": [
    "# **Validating numerical data**"
   ]
  },
  {
   "cell_type": "code",
   "execution_count": null,
   "metadata": {},
   "outputs": [],
   "source": [
    "books.select_dtypes(\"number\").head()"
   ]
  },
  {
   "cell_type": "code",
   "execution_count": null,
   "metadata": {
    "vscode": {
     "languageId": "sql"
    }
   },
   "outputs": [],
   "source": [
    "|   |rating | year |\n",
    "|---|-------|------|\n",
    "| 0 |   4.7 | 2016 |\n",
    "| 1 |   4.6 | 2011 |\n",
    "| 2 |   4.7 | 2018 |\n",
    "| 3 |   4.7 | 2017 |\n",
    "| 4 |   4.8 | 2019 |"
   ]
  },
  {
   "cell_type": "markdown",
   "metadata": {},
   "source": [
    "- Perhaps we'd like to know the range of years in which the books in our dataset were published. \n",
    "- We can check the lowest and highest years by using the dot-min and dot-max functions, respectively. \n",
    "- And we can view a more detailed picture of the distribution of year data using Seaborn's boxplot function. \n",
    "- The boxplot shows the boundaries of each quartile of year data: as we saw using min and max, the lowest year is 2009 and the highest year is 2019. \n",
    "- The 25th and 75th percentiles are 2010 and 2016 and the median year is 2013."
   ]
  },
  {
   "cell_type": "code",
   "execution_count": null,
   "metadata": {},
   "outputs": [],
   "source": [
    "books[\"year\"].min()\n",
    "\n",
    "2009\n",
    "\n",
    "books[\"year\"].max()\n",
    "\n",
    "2019"
   ]
  },
  {
   "cell_type": "code",
   "execution_count": null,
   "metadata": {},
   "outputs": [],
   "source": [
    "sns.boxplot(data=books, x=\"year\")\n",
    "plt.show()  "
   ]
  },
  {
   "attachments": {
    "image.png": {
     "image/png": "[encoded data removed]"
    }
   },
   "cell_type": "markdown",
   "metadata": {},
   "source": [
    "![image.png](attachment:image.png)"
   ]
  },
  {
   "cell_type": "markdown",
   "metadata": {},
   "source": [
    "- We can also view the year data grouped by a categorical variable such as genre by setting the y keyword argument. \n",
    "- It looks like the children's books in our dataset have slightly later publishing years in general, but the range of years is the same for all genres."
   ]
  },
  {
   "cell_type": "code",
   "execution_count": null,
   "metadata": {},
   "outputs": [],
   "source": [
    "sns.boxplot(data=books, x=\"year\", y=\"genre\")"
   ]
  },
  {
   "attachments": {
    "image.png": {
     "image/png": "[encoded data removed]"
    }
   },
   "cell_type": "markdown",
   "metadata": {},
   "source": [
    "![image.png](attachment:image.png)"
   ]
  }
 ],
 "metadata": {
  "language_info": {
   "name": "python"
  }
 },
 "nbformat": 4,
 "nbformat_minor": 2
}
