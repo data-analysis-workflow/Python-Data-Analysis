{
 "cells": [
  {
   "cell_type": "markdown",
   "metadata": {},
   "source": [
    "# **Validating continents**"
   ]
  },
  {
   "cell_type": "markdown",
   "metadata": {},
   "source": [
    "- Your colleague has informed you that the data on unemployment from countries in Oceania is not reliable, and you'd like to identify and exclude these countries from your unemployment data. The .isin() function can help with that!\n",
    "\n",
    "- Your task is to use .isin() to identify countries that are not in Oceania. These countries should return True while countries in Oceania should return False. This will set you up to use the results of .isin() to quickly filter out Oceania countries using Boolean indexing.\n",
    "\n",
    "- The unemployment DataFrame is available, and pandas has been imported as pd."
   ]
  },
  {
   "cell_type": "markdown",
   "metadata": {},
   "source": [
    "**Instructions**\n",
    "\n",
    "- Define a Series of Booleans describing whether or not each continent is outside of Oceania; call this Series not_oceania."
   ]
  },
  {
   "cell_type": "code",
   "execution_count": null,
   "metadata": {},
   "outputs": [],
   "source": [
    "# Define a Series describing whether each continent is outside of Oceania\n",
    "not_oceania = ~unemployment[\"continent\"].isin([\"Oceania\"])\n",
    "print(not_oceania)"
   ]
  },
  {
   "cell_type": "code",
   "execution_count": null,
   "metadata": {
    "vscode": {
     "languageId": "sql"
    }
   },
   "outputs": [],
   "source": [
    "0      False\n",
    "1      False\n",
    "2      False\n",
    "3      False\n",
    "4      False\n",
    "       ...  \n",
    "177     True\n",
    "178    False\n",
    "179    False\n",
    "180    False\n",
    "181    False\n",
    "Name: continent, Length: 182, dtype: bool"
   ]
  },
  {
   "cell_type": "markdown",
   "metadata": {},
   "source": [
    "**Instruction**\n",
    "\n",
    "- Use Boolean indexing to print the unemployment DataFrame without any of the data related to countries in Oceania."
   ]
  },
  {
   "cell_type": "code",
   "execution_count": null,
   "metadata": {},
   "outputs": [],
   "source": [
    "# Define a Series describing whether each continent is outside of Oceania\n",
    "not_oceania = ~unemployment[\"continent\"].isin([\"Oceania\"])\n",
    "\n",
    "# Print unemployment without records related to countries in Oceania\n",
    "print(unemployment[not_oceania])"
   ]
  }
 ],
 "metadata": {
  "language_info": {
   "name": "python"
  }
 },
 "nbformat": 4,
 "nbformat_minor": 2
}
