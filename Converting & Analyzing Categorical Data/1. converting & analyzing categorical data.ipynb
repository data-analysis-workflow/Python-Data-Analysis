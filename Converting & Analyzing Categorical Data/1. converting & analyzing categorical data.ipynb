{
 "cells": [
  {
   "cell_type": "markdown",
   "metadata": {},
   "source": [
    "# **Previewing the data**"
   ]
  },
  {
   "cell_type": "markdown",
   "metadata": {},
   "source": [
    "- Recall that we can use the select_dtypes method to filter any non-numeric data. \n",
    "- Chaining dot-head allows us to preview these columns in our salaries DataFrame, showing columns such as Designation, Experience, Employment_Status, and Company_Size."
   ]
  },
  {
   "cell_type": "code",
   "execution_count": null,
   "metadata": {},
   "outputs": [],
   "source": [
    "print(salaries.select_dtypes(\"object\").head())"
   ]
  },
  {
   "cell_type": "code",
   "execution_count": null,
   "metadata": {
    "vscode": {
     "languageId": "sql"
    }
   },
   "outputs": [],
   "source": [
    "| Designation               | Experience | Employment_Status | Employee_Location | Company_Size |\n",
    "|---------------------------|------------|-------------------|-------------------|--------------|\n",
    "| Data Scientist            | Mid        | FT                | DE                | L            |\n",
    "| Machine Learning Scientist| Senior     | FT                | JP                | S            |\n",
    "| Big Data Engineer         | Senior     | FT                | GB                | M            |\n",
    "| Product Data Analyst      | Mid        | FT                | HN                | S            |\n",
    "| Machine Learning Engineer | Senior     | FT                | US                | L            |\n"
   ]
  },
  {
   "cell_type": "markdown",
   "metadata": {},
   "source": [
    "Let's examine frequency of values in the Designation column. The output is truncated by pandas automatically since there are so many different job titles!"
   ]
  },
  {
   "cell_type": "code",
   "execution_count": null,
   "metadata": {},
   "outputs": [],
   "source": [
    "print(salaries[\"Designation\"].value_counts())"
   ]
  },
  {
   "cell_type": "code",
   "execution_count": null,
   "metadata": {
    "vscode": {
     "languageId": "sql"
    }
   },
   "outputs": [],
   "source": [
    "| Designation                   | Count |\n",
    "|-------------------------------|-------|\n",
    "| Data Scientist                | 143   |\n",
    "| Data Engineer                 | 132   |\n",
    "| Data Analyst                  | 97    |\n",
    "| Machine Learning Engineer     | 41    |\n",
    "| Research Scientist            | 16    |\n",
    "| Data Science Manager          | 12    |\n",
    "| Data Architect                | 11    |\n",
    "| Big Data Engineer             | 8     |\n",
    "| Machine Learning Scientist    | 8     |\n",
    "| ...                           | ...   |\n"
   ]
  },
  {
   "cell_type": "markdown",
   "metadata": {
    "vscode": {
     "languageId": "sql"
    }
   },
   "source": [
    "We can count how many unique job titles there are using pandas dot-nunique method. There are 50 in total!"
   ]
  },
  {
   "cell_type": "code",
   "execution_count": null,
   "metadata": {
    "vscode": {
     "languageId": "sql"
    }
   },
   "outputs": [],
   "source": [
    "print(salaries[\"Designation\"].nunique())"
   ]
  },
  {
   "cell_type": "code",
   "execution_count": null,
   "metadata": {
    "vscode": {
     "languageId": "sql"
    }
   },
   "outputs": [],
   "source": [
    "50"
   ]
  },
  {
   "cell_type": "markdown",
   "metadata": {},
   "source": [
    "However, the fifth most popular job title, Research Scientist, appears less than 20 times."
   ]
  },
  {
   "attachments": {
    "image.png": {
     "image/png": "[encoded data removed]"
    }
   },
   "cell_type": "markdown",
   "metadata": {},
   "source": [
    "![image.png](attachment:image.png)"
   ]
  },
  {
   "cell_type": "markdown",
   "metadata": {},
   "source": [
    "# **Extracting value from categories**"
   ]
  },
  {
   "cell_type": "markdown",
   "metadata": {},
   "source": [
    "- The current format of the data limits our ability to generate insights. \n",
    "- We can use the pandas series-dot-string-dot-contains method, which allows us to search a column for a specific string or multiple strings. \n",
    "- Say we want to know which job titles have Scientist in them. \n",
    "- We use the string-dot-contains method on the Designation column, passing the word Scientist. \n",
    "- This returns True or False values depending on whether the row contains this word."
   ]
  },
  {
   "cell_type": "markdown",
   "metadata": {},
   "source": [
    "- Current format limits our ability generate insights\n",
    "- `pandas.Series.str.contains()`\n",
    "  - Search a column for a specific string or multiple strings"
   ]
  },
  {
   "cell_type": "code",
   "execution_count": null,
   "metadata": {},
   "outputs": [],
   "source": [
    "salaries[\"Designation\"].str.contains(\"Scientist\")"
   ]
  },
  {
   "cell_type": "code",
   "execution_count": null,
   "metadata": {
    "vscode": {
     "languageId": "sql"
    }
   },
   "outputs": [],
   "source": [
    "| Index | Designation |\n",
    "|-------|-------------|\n",
    "| 0     | True        |\n",
    "| 1     | True        |\n",
    "| 2     | False       |\n",
    "| 3     | False       |\n",
    "| ...   | ...         |\n",
    "| 604   | False       |\n",
    "| 605   | False       |\n",
    "| 606   | True        |\n",
    "| Name: Designation, Length: 607, dtype: bool "
   ]
  },
  {
   "cell_type": "markdown",
   "metadata": {},
   "source": [
    "# **Finding multiple phrases in strings**"
   ]
  },
  {
   "cell_type": "markdown",
   "metadata": {},
   "source": [
    "- What if we want to filter for rows containing one or more phrases? \n",
    "- Say we want to find job titles containing either Machine Learning or AI. \n",
    "- We use the string-dot-contains method again, but this time we include a pipe between our two phrases. \n",
    "- This will return True if an observation in the Designation column contains Machine Learning or AI, or false if neither of these phrases are present! \n",
    "- Notice that we avoid spaces before or after the pipe - if we included spaces then string-dot-contains will only capture values that have a space, which isn't necessary for us in this case. \n",
    "- Again we are returned the Boolean results."
   ]
  },
  {
   "cell_type": "markdown",
   "metadata": {},
   "source": [
    "- Words of interest: Machine Learning or AI"
   ]
  },
  {
   "cell_type": "code",
   "execution_count": null,
   "metadata": {},
   "outputs": [],
   "source": [
    "salaries[\"Designation\"].str.contains(\"Machine Learning|AI\")"
   ]
  },
  {
   "cell_type": "code",
   "execution_count": null,
   "metadata": {
    "vscode": {
     "languageId": "sql"
    }
   },
   "outputs": [],
   "source": [
    "| Index | Designation |\n",
    "|-------|-------------|\n",
    "| 0     | False       |\n",
    "| 1     | True        |\n",
    "| 2     | False       |\n",
    "| 3     | False       |\n",
    "| ...   | ...         |\n",
    "| 604   | False       |\n",
    "| 605   | False       |\n",
    "| 606   | True        |\n",
    "| Name: Designation, Length: 607, dtype: bool "
   ]
  },
  {
   "cell_type": "markdown",
   "metadata": {},
   "source": [
    "- What if we wanted to filter for job titles that start with a specific phrase such as \"Data\"? \n",
    "- We use the same string-dot-contains method and include the caret symbol to indicate we are looking for this match at the start of the line. \n",
    "- This will match titles such as \"Data Scientist\" but not \"Big Data Engineer\"."
   ]
  },
  {
   "cell_type": "markdown",
   "metadata": {},
   "source": [
    "- Words of interest: Any that start with Data"
   ]
  },
  {
   "cell_type": "code",
   "execution_count": null,
   "metadata": {},
   "outputs": [],
   "source": [
    "salaries[\"Designation\"].str.contains(\"^Data\")"
   ]
  },
  {
   "cell_type": "code",
   "execution_count": null,
   "metadata": {
    "vscode": {
     "languageId": "sql"
    }
   },
   "outputs": [],
   "source": [
    "| Index | Designation |\n",
    "|-------|-------------|\n",
    "| 0     | True        |\n",
    "| 1     | False       |\n",
    "| 2     | False       |\n",
    "| 3     | False       |\n",
    "| ...   | ...         |\n",
    "| 604   | True        |\n",
    "| 605   | True        |\n",
    "| 606   | False       |\n",
    "| Name: Designation, Length: 607, dtype: bool "
   ]
  },
  {
   "cell_type": "markdown",
   "metadata": {},
   "source": [
    "- Now we have a sense of how this method works, let's define a list of job titles we want to find. \n",
    "- We start by creating a list with the different categories of data roles, which will become the values of a new column in our DataFrame."
   ]
  },
  {
   "cell_type": "code",
   "execution_count": null,
   "metadata": {
    "vscode": {
     "languageId": "sql"
    }
   },
   "outputs": [],
   "source": [
    "job_categories = [\"Data Science\", \"Data Analytics\",\n",
    "\"Data Engineering\", \"Machine Learning\",\n",
    "\"Managerial\", \"Consultant\"]"
   ]
  },
  {
   "cell_type": "markdown",
   "metadata": {},
   "source": [
    "- We then need to create variables containing our filters. \n",
    "- We will look for Data Scientist or NLP for data science roles. \n",
    "- We'll use Analyst or Analytics for data analyst roles. \n",
    "- We repeat this for data engineer, machine learning engineer, managerial, and consultant roles."
   ]
  },
  {
   "cell_type": "code",
   "execution_count": null,
   "metadata": {
    "vscode": {
     "languageId": "sql"
    }
   },
   "outputs": [],
   "source": [
    "data_science = \"Data Scientist | NLP\"\n",
    "data_analyst = \"Analyst | Analytics\"\n",
    "data_engineer = \"Data Engineer | ETL | Architect | Infrastructure\"\n",
    "ml_engineer = \"Machine Learning | ML | Big Data | AI\"\n",
    "manager = \"Manager | Head | Director | Lead | Principal | Staff\"\n",
    "consultant = \"Consultant | Freelance\""
   ]
  },
  {
   "cell_type": "markdown",
   "metadata": {},
   "source": [
    "- The next step is to create a list with our range of conditions for the string-dot-contains method. \n",
    "- We add data science, data analyst, data engineer, and all remaining roles, remembering to close our list."
   ]
  },
  {
   "cell_type": "code",
   "execution_count": null,
   "metadata": {},
   "outputs": [],
   "source": [
    "conditions = [\n",
    "    (salaries[\"Designation\"].str.contains(data_science)),  # Using the variable\n",
    "    (salaries[\"Designation\"].str.contains(data_analyst)),\n",
    "    (salaries[\"Designation\"].str.contains(data_engineer)),\n",
    "    (salaries[\"Designation\"].str.contains(ml_engineer)),\n",
    "    (salaries[\"Designation\"].str.contains(manager)),\n",
    "    (salaries[\"Designation\"].str.contains(consultant))\n",
    "]"
   ]
  },
  {
   "cell_type": "markdown",
   "metadata": {},
   "source": [
    "- Finally, we can create our new Job_Category column by using NumPy's dot-select function."
   ]
  },
  {
   "cell_type": "code",
   "execution_count": null,
   "metadata": {},
   "outputs": [],
   "source": [
    "salaries[\"Job_Category\"] = np.select(conditions, job_categories, default=\"Other\")"
   ]
  },
  {
   "cell_type": "markdown",
   "metadata": {},
   "source": [
    "- It takes a list of conditions as the first argument,\n",
    "- followed by a list of arrays to search for the conditions in.\n",
    "- By using an argument called default, we tell NumPy to assign \"Other\" when a value in our conditions list is not found."
   ]
  },
  {
   "cell_type": "markdown",
   "metadata": {},
   "source": [
    "**Previewing job categories**"
   ]
  },
  {
   "cell_type": "markdown",
   "metadata": {},
   "source": [
    "- Previewing the Designation and our new Job_Category columns, we can sense check the first five values. All looks good!"
   ]
  },
  {
   "cell_type": "code",
   "execution_count": null,
   "metadata": {},
   "outputs": [],
   "source": [
    "print(salaries[[\"Designation\", \"Job_Category\"]].head())"
   ]
  },
  {
   "cell_type": "code",
   "execution_count": null,
   "metadata": {
    "vscode": {
     "languageId": "sql"
    }
   },
   "outputs": [],
   "source": [
    "| Designation                  | Job_Category       |\n",
    "|------------------------------|--------------------|\n",
    "| Data Scientist               | Data Science       |\n",
    "| Machine Learning Scientist   | Machine Learning   |\n",
    "| Big Data Engineer            | Data Engineering   |\n",
    "| Product Data Analyst         | Data Analytics     |\n",
    "| Machine Learning Engineer    | Machine Learning   |"
   ]
  },
  {
   "cell_type": "markdown",
   "metadata": {},
   "source": [
    "**Visualizing job category frequency**"
   ]
  },
  {
   "cell_type": "markdown",
   "metadata": {},
   "source": [
    "- With our new column, we can visualize how many jobs fall under each category. \n",
    "- For this, we use Seaborn's countplot, passing our DataFrame to the data keyword argument and the Job_Category column to x. \n",
    "- We call p-l-t-dot-show to display the plot. We can see Data Science, Engineer, and Analyst roles are by far the most popular! \n",
    "- There aren't many roles categorized as Other, suggesting we captured the majority of our data roles appropriately!"
   ]
  },
  {
   "cell_type": "code",
   "execution_count": null,
   "metadata": {},
   "outputs": [],
   "source": [
    "sns.countplot(data=salaries, x=\"Job_Category\")\n",
    "plt.show()"
   ]
  },
  {
   "attachments": {
    "image.png": {
     "image/png": "[encoded data removed]"
    }
   },
   "cell_type": "markdown",
   "metadata": {},
   "source": [
    "![image.png](attachment:image.png)"
   ]
  }
 ],
 "metadata": {
  "kernelspec": {
   "display_name": "Python 3",
   "language": "python",
   "name": "python3"
  },
  "language_info": {
   "codemirror_mode": {
    "name": "ipython",
    "version": 3
   },
   "file_extension": ".py",
   "mimetype": "text/x-python",
   "name": "python",
   "nbconvert_exporter": "python",
   "pygments_lexer": "ipython3",
   "version": "3.13.0"
  }
 },
 "nbformat": 4,
 "nbformat_minor": 2
}
