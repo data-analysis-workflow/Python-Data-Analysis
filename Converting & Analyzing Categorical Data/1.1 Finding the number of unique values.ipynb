{
 "cells": [
  {
   "cell_type": "markdown",
   "metadata": {},
   "source": [
    "# **Finding the number of unique values**"
   ]
  },
  {
   "cell_type": "markdown",
   "metadata": {},
   "source": [
    "- You would like to practice some of the categorical data manipulation and analysis skills that you've just seen. To help identify which data could be reformatted to extract value, you are going to find out which non-numeric columns in the planes dataset have a large number of unique values.\n",
    "\n",
    "- pandas has been imported for you as pd, and the dataset has been stored as planes."
   ]
  },
  {
   "cell_type": "markdown",
   "metadata": {},
   "source": [
    "**Instructions**\n",
    "\n",
    "- Filter planes for columns that are of \"object\" data type.\n",
    "- Loop through the columns in the dataset.\n",
    "- Add the column iterator to the print statement, then call the function to return the number of unique values in the column."
   ]
  },
  {
   "cell_type": "code",
   "execution_count": null,
   "metadata": {},
   "outputs": [],
   "source": [
    "# Filter the DataFrame for object columns\n",
    "non_numeric = planes.select_dtypes(\"object\")\n",
    "\n",
    "# Loop through columns\n",
    "for column in non_numeric.columns:\n",
    "  \n",
    "  # Print the number of unique values\n",
    "  print(f\"Number of unique values in {column} column: \", non_numeric[column].nunique())"
   ]
  },
  {
   "cell_type": "code",
   "execution_count": null,
   "metadata": {
    "vscode": {
     "languageId": "sql"
    }
   },
   "outputs": [],
   "source": [
    "Number of unique values in Airline column:  8\n",
    "Number of unique values in Date_of_Journey column:  44\n",
    "Number of unique values in Source column:  5\n",
    "Number of unique values in Destination column:  6\n",
    "Number of unique values in Route column:  122\n",
    "Number of unique values in Dep_Time column:  218\n",
    "Number of unique values in Duration column:  362\n",
    "Number of unique values in Total_Stops column:  5\n",
    "Number of unique values in Additional_Info column:  9"
   ]
  }
 ],
 "metadata": {
  "language_info": {
   "name": "python"
  }
 },
 "nbformat": 4,
 "nbformat_minor": 2
}
