{
 "cells": [
  {
   "cell_type": "markdown",
   "metadata": {},
   "source": [
    "# **Cross-tabulation**"
   ]
  },
  {
   "cell_type": "markdown",
   "metadata": {},
   "source": [
    "- Cross-tabulation can help identify how observations occur in combination.\n",
    "\n",
    "- Using the salaries dataset, which has been imported as a pandas DataFrame, you'll perform cross-tabulation on multiple variables, including the use of aggregation, to see the relationship between \"Company_Size\" and other variables.\n",
    "\n",
    "- pandas has been imported for you as pd."
   ]
  },
  {
   "cell_type": "markdown",
   "metadata": {},
   "source": [
    "**Instructions**\n",
    "\n",
    "- Perform cross-tabulation, setting \"Company_Size\" as the index, and the columns to classes in \"Experience\"."
   ]
  },
  {
   "cell_type": "code",
   "execution_count": null,
   "metadata": {},
   "outputs": [],
   "source": [
    "# Cross-tabulate Company_Size and Experience\n",
    "print(pd.crosstab(salaries[\"Company_Size\"], salaries[\"Experience\"]))"
   ]
  },
  {
   "cell_type": "code",
   "execution_count": null,
   "metadata": {
    "vscode": {
     "languageId": "sql"
    }
   },
   "outputs": [],
   "source": [
    "Experience    EN  EX  MI   SE\n",
    "Company_Size                 \n",
    "L             24   7  49   44\n",
    "M             25   9  58  136\n",
    "S             18   1  21   15"
   ]
  },
  {
   "cell_type": "markdown",
   "metadata": {},
   "source": [
    "**Instructions**\n",
    "\n",
    "- Cross-tabulate \"Job_Category\" and classes of \"Company_Size\" as column names."
   ]
  },
  {
   "cell_type": "code",
   "execution_count": null,
   "metadata": {},
   "outputs": [],
   "source": [
    "# Cross-tabulate Job_Category and Company_Size\n",
    "print(pd.crosstab(salaries[\"Job_Category\"], salaries[\"Company_Size\"]))"
   ]
  },
  {
   "cell_type": "code",
   "execution_count": null,
   "metadata": {
    "vscode": {
     "languageId": "sql"
    }
   },
   "outputs": [],
   "source": [
    "Company_Size       L   M   S\n",
    "Job_Category                \n",
    "Data Analytics    23  61   8\n",
    "Data Engineering  28  72  11\n",
    "Data Science      38  59  16\n",
    "Machine Learning  17  19  13\n",
    "Managerial         5   8   1\n",
    "Other             13   9   6"
   ]
  },
  {
   "cell_type": "markdown",
   "metadata": {},
   "source": [
    "**Instructions**\n",
    "\n",
    "- Update pd.crosstab() to return the mean \"Salary_USD\" values."
   ]
  },
  {
   "cell_type": "code",
   "execution_count": null,
   "metadata": {},
   "outputs": [],
   "source": [
    "# Cross-tabulate Job_Category and Company_Size\n",
    "print(pd.crosstab(salaries[\"Job_Category\"], salaries[\"Company_Size\"],\n",
    "            values=salaries[\"Salary_USD\"], aggfunc=\"mean\"))"
   ]
  },
  {
   "cell_type": "code",
   "execution_count": null,
   "metadata": {
    "vscode": {
     "languageId": "sql"
    }
   },
   "outputs": [],
   "source": [
    "Company_Size               L           M          S\n",
    "Job_Category                                       \n",
    "Data Analytics    112851.749   95912.685  53741.877\n",
    "Data Engineering  118939.035  121287.061  86927.136\n",
    "Data Science       96489.520  116044.456  62241.749\n",
    "Machine Learning  140779.492  100794.237  78812.586\n",
    "Managerial        190551.449  150713.628  31484.700\n",
    "Other              92873.911   89750.579  69871.248"
   ]
  }
 ],
 "metadata": {
  "language_info": {
   "name": "python"
  }
 },
 "nbformat": 4,
 "nbformat_minor": 2
}
