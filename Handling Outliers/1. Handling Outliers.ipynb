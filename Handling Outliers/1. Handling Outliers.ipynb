{
 "cells": [
  {
   "cell_type": "markdown",
   "metadata": {},
   "source": [
    "# **What is an outlier?**"
   ]
  },
  {
   "cell_type": "markdown",
   "metadata": {},
   "source": [
    "- To recap, an outlier is an observation that is far away from other data points. \n",
    "- If a house prices dataset has a median of 400,000 dollars, a house that costs five million dollars would likely be considered an outlier. \n",
    "- However, we should consider factors that affect price such as location, number of bedrooms, and overall size."
   ]
  },
  {
   "cell_type": "markdown",
   "metadata": {},
   "source": [
    "- An observation far away from other data points\n",
    "  - Median house price: $400,000\n",
    "  - Outlier house price: $5,000,000\n",
    "\n",
    "- Should consider why the value is different:\n",
    "  - Location, number of bedrooms, overall size etc"
   ]
  },
  {
   "cell_type": "markdown",
   "metadata": {},
   "source": [
    "# **Using descriptive statistics**"
   ]
  },
  {
   "cell_type": "markdown",
   "metadata": {},
   "source": [
    "- A starting place for identifying outliers is with the pandas dot-describe method. \n",
    "- We can see that the maximum salary is more than four times the mean and median. \n",
    "- Seems extreme right?"
   ]
  },
  {
   "cell_type": "code",
   "execution_count": null,
   "metadata": {},
   "outputs": [],
   "source": [
    "print(salaries[\"Salary_USD\"].describe())"
   ]
  },
  {
   "cell_type": "code",
   "execution_count": null,
   "metadata": {
    "vscode": {
     "languageId": "sql"
    }
   },
   "outputs": [],
   "source": [
    "count      518.000\n",
    "mean    104905.826\n",
    "std      62660.107\n",
    "min       3819.000\n",
    "25%      61191.000\n",
    "50%      95483.000\n",
    "75%     137496.000\n",
    "max     429675.000\n",
    "Name: Salary_USD, dtype: float64"
   ]
  },
  {
   "cell_type": "markdown",
   "metadata": {},
   "source": [
    "# **Using the interquartile range**"
   ]
  },
  {
   "cell_type": "markdown",
   "metadata": {},
   "source": [
    "- We can define an outlier mathematically. \n",
    "- First, we need to know the interquartile range, or IQR, which is the difference between the 75th and 25th percentiles."
   ]
  },
  {
   "cell_type": "markdown",
   "metadata": {},
   "source": [
    "- IQR = 75th - 25th percentile"
   ]
  },
  {
   "cell_type": "markdown",
   "metadata": {},
   "source": [
    "# **IQR in box plots**"
   ]
  },
  {
   "cell_type": "markdown",
   "metadata": {},
   "source": [
    "- Recall that these percentiles are included in box plots, like this one showing salaries of data professionals. \n",
    "- The box contains percentiles, and observations considered to be outliers are represented as diamonds outside of the box."
   ]
  },
  {
   "cell_type": "code",
   "execution_count": null,
   "metadata": {},
   "outputs": [],
   "source": [
    "# Assuming 'salaries' is a pandas DataFrame with a column named 'Salary_USD'\n",
    "sns.boxplot(data=salaries, y=\"Salary_USD\")\n",
    "plt.show()"
   ]
  },
  {
   "attachments": {
    "image.png": {
     "image/png": "[encoded data removed]"
    }
   },
   "cell_type": "markdown",
   "metadata": {},
   "source": [
    "![image.png](attachment:image.png)"
   ]
  },
  {
   "cell_type": "markdown",
   "metadata": {},
   "source": [
    "- Once we have the IQR, we can find an upper outlier by looking for values above the sum of the 75th percentile plus one-point-five times the IQR. \n",
    "- Lower outliers have values below the sum of the 25th percentile minus one-point-five times the IQR"
   ]
  },
  {
   "cell_type": "markdown",
   "metadata": {},
   "source": [
    "- IQR = 75th - 25th percentile\n",
    "- Upper Outliers > 75th percentile + (1.5 * IQR)\n",
    "- Lower Outliers < 25th percentile - (1.5 * IQR)"
   ]
  },
  {
   "cell_type": "markdown",
   "metadata": {},
   "source": [
    "# **Identifying thresholds**"
   ]
  },
  {
   "cell_type": "markdown",
   "metadata": {},
   "source": [
    "- We can calculate percentiles using the Series-dot-quantile method. \n",
    "- We pass zero-point-seven-five to find the 75th percentile for salary, then pass zero-point-two-five to get the 25th percentile. \n",
    "- We calculate the IQR by subtracting one from the other. \n",
    "- Printing the result shows an IQR of around 76000 dollars."
   ]
  },
  {
   "cell_type": "code",
   "execution_count": null,
   "metadata": {},
   "outputs": [],
   "source": [
    "# 75th percentile\n",
    "seventy_fifth = salaries[\"Salary_USD\"].quantile(0.75)\n",
    "\n",
    "# 25th percentile\n",
    "twenty_fifth = salaries[\"Salary_USD\"].quantile(0.25)\n",
    "\n",
    "# Interquartile range\n",
    "salaries_iqr = seventy_fifth - twenty_fifth\n",
    "\n",
    "print(salaries_iqr)"
   ]
  },
  {
   "cell_type": "code",
   "execution_count": null,
   "metadata": {
    "vscode": {
     "languageId": "sql"
    }
   },
   "outputs": [],
   "source": [
    "76305.0"
   ]
  },
  {
   "cell_type": "markdown",
   "metadata": {},
   "source": [
    "- We can plug these variables into our formulae to find the value thresholds, first for the upper limit and then for the lower limit. \n",
    "- Printing the results, we can see that the lower limit is actually below zero, which isn't possible given we are working with salaries!"
   ]
  },
  {
   "cell_type": "code",
   "execution_count": null,
   "metadata": {},
   "outputs": [],
   "source": [
    "# Upper threshold\n",
    "upper = seventy_fifth + (1.5 * salaries_iqr)\n",
    "\n",
    "# Lower threshold\n",
    "lower = twenty_fifth - (1.5 * salaries_iqr)\n",
    "\n",
    "print(upper, lower)"
   ]
  },
  {
   "cell_type": "code",
   "execution_count": null,
   "metadata": {
    "vscode": {
     "languageId": "sql"
    }
   },
   "outputs": [],
   "source": [
    "251953.5 -53266.5"
   ]
  },
  {
   "cell_type": "markdown",
   "metadata": {},
   "source": [
    "**Why Do We Add 1.5 * IQR?**\n",
    "\n",
    "The 1.5 multiplier is a commonly used heuristic for identifying outliers. It is based on the assumption that data follows a roughly normal distribution, and it helps define a reasonable range for what should be considered \"normal\" data. Values beyond this range are seen as potential outliers.\n",
    "\n",
    "Why 1.5?: The choice of 1.5 as the multiplier is a convention that works well in many practical situations. It has been shown to capture a reasonable number of outliers in a dataset without being too strict or too lenient. Increasing the multiplier (e.g., to 2.0) would result in fewer outliers, while decreasing it would identify more outliers."
   ]
  },
  {
   "cell_type": "markdown",
   "metadata": {},
   "source": [
    "# **Subsetting our data**"
   ]
  },
  {
   "cell_type": "markdown",
   "metadata": {},
   "source": [
    "- We can find values outside of these limits by subsetting our data. \n",
    "- It will only return upper outliers, but for the purpose of demonstrating the syntax, we've also filtered for values below the lower threshold. \n",
    "- We also subset to just show Experience, Employee_Location, and Salary_USD. \n",
    "- There are nine individuals with a salary above the upper threshold. \n",
    "- Notice how none of them are entry level and they are all based in the US?"
   ]
  },
  {
   "cell_type": "code",
   "execution_count": null,
   "metadata": {},
   "outputs": [],
   "source": [
    "# Filter salaries based on lower and upper bounds.\n",
    "salaries[(salaries[\"Salary_USD\"] < lower) | (salaries[\"Salary_USD\"] > upper)] \\ \n",
    "        [[\"Experience\", \"Employee_Location\", \"Salary_USD\"]]"
   ]
  },
  {
   "cell_type": "code",
   "execution_count": null,
   "metadata": {
    "vscode": {
     "languageId": "sql"
    }
   },
   "outputs": [],
   "source": [
    "       Experience  Employee_Location  Salary_USD\n",
    "29     Mid         US                 429675.0\n",
    "67     Mid         US                 257805.0\n",
    "80     Senior      US                 263534.0\n",
    "83     Mid         US                 429675.0\n",
    "133    Mid         US                 403895.0\n",
    "410    Executive   US                 309366.0\n",
    "441    Senior      US                 362837.0\n",
    "445    Senior      US                 386708.0\n",
    "454    Senior      US                 254368.0"
   ]
  },
  {
   "cell_type": "markdown",
   "metadata": {},
   "source": [
    "# **Why look for outliers?**"
   ]
  },
  {
   "cell_type": "markdown",
   "metadata": {},
   "source": [
    "- So why is the detection of outliers an important part of exploratory data analysis? \n",
    "- These are extreme values and may not accurately represent the data. \n",
    "- Additionally, they can skew the mean and standard deviation. If we plan to perform statistical tests or build machine learning models, these will often require data that is normally distributed and not skewed!"
   ]
  },
  {
   "cell_type": "markdown",
   "metadata": {},
   "source": [
    "- Outliers are extreme values\n",
    "  - may not accurately represent our data\n",
    "\n",
    "- Can change the mean and standard deviation\n",
    "\n",
    "- Statistical tests and machine learning models need normally distributed data"
   ]
  },
  {
   "cell_type": "markdown",
   "metadata": {},
   "source": [
    "# **What to do about outliers?**"
   ]
  },
  {
   "cell_type": "markdown",
   "metadata": {},
   "source": [
    "- Once we know we have outliers, we need to decide what to do. \n",
    "- It's helpful to ask ourselves why these outliers exist. \n",
    "- For example, salaries can be very high depending on level of experience and the country of employment, so could be representative of a subset of our data. If this is the case, we could just leave them alone. \n",
    "- Alternatively, do we know the values are accurate? \n",
    "- Could there have been an error in data collection? \n",
    "- If there's an error, we could remove the values."
   ]
  },
  {
   "cell_type": "markdown",
   "metadata": {},
   "source": [
    "# **Dropping outliers**"
   ]
  },
  {
   "cell_type": "markdown",
   "metadata": {},
   "source": [
    "- We can remove outliers by modifying the syntax we used to subset our data, filtering for values more than the lower limit and less than the upper limit. \n",
    "- Reprinting our descriptive statistics shows nine fewer values, a mean that is 5000 dollars less than before, and a much lower maximum salary!"
   ]
  },
  {
   "cell_type": "code",
   "execution_count": null,
   "metadata": {},
   "outputs": [],
   "source": [
    "no_outliers = salaries[(salaries[\"Salary_USD\"] > lower) & (salaries[\"Salary_USD\"] < upper)]\n",
    "print(no_outliers[\"Salary_USD\"].describe())"
   ]
  },
  {
   "cell_type": "code",
   "execution_count": null,
   "metadata": {
    "vscode": {
     "languageId": "sql"
    }
   },
   "outputs": [],
   "source": [
    "count      509.000000\n",
    "mean    100674.567780\n",
    "std      53643.050057\n",
    "min       3819.000000\n",
    "25%      60928.000000\n",
    "50%      95483.000000\n",
    "75%     134059.000000\n",
    "max     248257.000000\n",
    "Name: Salary_USD, dtype: float64"
   ]
  },
  {
   "cell_type": "markdown",
   "metadata": {},
   "source": [
    "**Distribution of salaries**"
   ]
  },
  {
   "cell_type": "markdown",
   "metadata": {},
   "source": [
    "- To highlight the impact of removing outliers, let's plot a histogram of the original dataset containing the outliers. \n",
    "- We see the distribution is right-skewed by the upper outliers. \n",
    "- Plotting with the no_outliers dataset, salaries is now less skewed and looks more like a normal distribution!"
   ]
  },
  {
   "attachments": {
    "image.png": {
     "image/png": "[encoded data removed]"
    }
   },
   "cell_type": "markdown",
   "metadata": {},
   "source": [
    "![image.png](attachment:image.png)"
   ]
  }
 ],
 "metadata": {
  "language_info": {
   "name": "python"
  }
 },
 "nbformat": 4,
 "nbformat_minor": 2
}
