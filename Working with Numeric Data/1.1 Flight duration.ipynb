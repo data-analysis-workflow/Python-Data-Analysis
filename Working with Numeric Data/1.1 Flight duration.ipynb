{
 "cells": [
  {
   "cell_type": "markdown",
   "metadata": {},
   "source": [
    "# **Flight duration**"
   ]
  },
  {
   "cell_type": "markdown",
   "metadata": {},
   "source": [
    "- You would like to analyze the duration of flights, but unfortunately, the \"Duration\" column in the planes DataFrame currently contains string values.\n",
    "\n",
    "- You'll need to clean the column and convert it to the correct data type for analysis. \n",
    "\n",
    "- seaborn has been imported as sns."
   ]
  },
  {
   "cell_type": "markdown",
   "metadata": {},
   "source": [
    "**Instructions**\n",
    "\n",
    "- Print the first five values of the \"Duration\" column."
   ]
  },
  {
   "cell_type": "code",
   "execution_count": null,
   "metadata": {},
   "outputs": [],
   "source": [
    "# Preview the column\n",
    "print(planes[\"Duration\"].head())"
   ]
  },
  {
   "cell_type": "code",
   "execution_count": null,
   "metadata": {
    "vscode": {
     "languageId": "sql"
    }
   },
   "outputs": [],
   "source": [
    "0                  19.0h\n",
    "1     5.416666666666667h\n",
    "2                  4.75h\n",
    "3    2.4166666666666665h\n",
    "4                  15.5h\n",
    "Name: Duration, dtype: object"
   ]
  },
  {
   "cell_type": "markdown",
   "metadata": {},
   "source": [
    "**Instructions**\n",
    "\n",
    "- Remove \"h\" from the column."
   ]
  },
  {
   "cell_type": "code",
   "execution_count": null,
   "metadata": {},
   "outputs": [],
   "source": [
    "# Remove the string character\n",
    "planes[\"Duration\"] = planes[\"Duration\"].str.replace(\"h\", \"\")\n",
    "print(planes[\"Duration\"].head)"
   ]
  },
  {
   "cell_type": "code",
   "execution_count": null,
   "metadata": {
    "vscode": {
     "languageId": "sql"
    }
   },
   "outputs": [],
   "source": [
    "    1         5.416666666666667\n",
    "    2                      4.75\n",
    "    3        2.4166666666666665\n",
    "    4                      15.5\n",
    "                    ...        \n",
    "    10655                   2.5\n",
    "    10656     2.583333333333333\n",
    "    10657                   3.0\n",
    "    10658    2.6666666666666665\n",
    "    10659     8.333333333333334\n",
    "    Name: Duration, Length: 10660, dtype: object>"
   ]
  },
  {
   "cell_type": "markdown",
   "metadata": {},
   "source": [
    "**Instructions**\n",
    "\n",
    "- Convert the column to float data type."
   ]
  },
  {
   "cell_type": "code",
   "execution_count": null,
   "metadata": {},
   "outputs": [],
   "source": [
    "# Convert to float data type\n",
    "planes[\"Duration\"] = planes[\"Duration\"].astype(float)"
   ]
  },
  {
   "cell_type": "markdown",
   "metadata": {},
   "source": [
    "**Instructions**\n",
    "\n",
    "- Plot a histogram of \"Duration\" values."
   ]
  },
  {
   "cell_type": "code",
   "execution_count": null,
   "metadata": {},
   "outputs": [],
   "source": [
    "# Plot a histogram\n",
    "sns.histplot(data=planes, x=\"Duration\")\n",
    "plt.show()"
   ]
  },
  {
   "attachments": {
    "image.png": {
     "image/png": "[encoded data removed]"
    }
   },
   "cell_type": "markdown",
   "metadata": {},
   "source": [
    "![image.png](attachment:image.png)"
   ]
  }
 ],
 "metadata": {
  "language_info": {
   "name": "python"
  }
 },
 "nbformat": 4,
 "nbformat_minor": 2
}
