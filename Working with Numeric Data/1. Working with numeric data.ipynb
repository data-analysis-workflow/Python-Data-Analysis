{
 "cells": [
  {
   "cell_type": "markdown",
   "metadata": {},
   "source": [
    "**The original salaries dataset**"
   ]
  },
  {
   "cell_type": "markdown",
   "metadata": {},
   "source": [
    "- So far, we've been looking at a modified version of the data professionals dataset. \n",
    "- Let's print summary information about our original DataFrame."
   ]
  },
  {
   "cell_type": "code",
   "execution_count": null,
   "metadata": {},
   "outputs": [],
   "source": [
    "print(salaries.info())"
   ]
  },
  {
   "cell_type": "markdown",
   "metadata": {},
   "source": [
    "- The first thing that jumps out is that the Salary_USD column we've been working with is not present, but there's a column called Salary_In_Rupees, referring to India's currency."
   ]
  },
  {
   "cell_type": "code",
   "execution_count": null,
   "metadata": {
    "vscode": {
     "languageId": "sql"
    }
   },
   "outputs": [],
   "source": [
    "# This code snippet shows the information of a pandas DataFrame.\n",
    "# It displays the data types of each column, the number of non-null entries, and the total memory usage.\n",
    "\n",
    "<class 'pandas.core.frame.DataFrame'>\n",
    "RangeIndex: 594 entries, 0 to 593\n",
    "Data columns (total 9 columns):\n",
    "#   Column                Non-Null Count  Dtype   \n",
    "---  ------                --------------  -----   \n",
    "0   Working_Year          594 non-null    int64   \n",
    "1   Designation           567 non-null    object  \n",
    "2   Experience            561 non-null    object  \n",
    "3   Employment_Status     563 non-null    object  \n",
    "4   Salary_In_Rupees      566 non-null    object  \n",
    "5   Employee_Location     554 non-null    object  \n",
    "6   Company_Location      570 non-null    object  \n",
    "7   Company_Size          535 non-null    object  \n",
    "8   Remote_Working_Ratio  571 non-null    float64 \n",
    "dtypes: float64(1), int64(1), object(7)\n",
    "memory usage: 41.9+ KB\n",
    "None"
   ]
  },
  {
   "cell_type": "markdown",
   "metadata": {},
   "source": [
    "**Salary in rupees**\n",
    "\n",
    "- Previewing this column, we see that the values contain commas, and the data type is object."
   ]
  },
  {
   "cell_type": "code",
   "execution_count": null,
   "metadata": {},
   "outputs": [],
   "source": [
    "print(salaries[\"Salary_In_Rupees\"].head())"
   ]
  },
  {
   "cell_type": "code",
   "execution_count": null,
   "metadata": {
    "vscode": {
     "languageId": "sql"
    }
   },
   "outputs": [],
   "source": [
    "0     20,688,070.00\n",
    "1      8,674,985.00\n",
    "2      1,591,390.00\n",
    "3     11,935,425.00\n",
    "4      5,729,004.00\n",
    "Name: Salary_In_Rupees, dtype: object"
   ]
  },
  {
   "cell_type": "markdown",
   "metadata": {},
   "source": [
    "# **Converting strings to numbers**"
   ]
  },
  {
   "cell_type": "markdown",
   "metadata": {},
   "source": [
    "- To obtain Salary in USD we'll need to perform a few tasks. \n",
    "- First, we need to remove the commas from the values in the Salary_In_Rupees column. \n",
    "- Next, we change the data type to float. \n",
    "- Lastly, we'll make a new column by converting the currency."
   ]
  },
  {
   "cell_type": "markdown",
   "metadata": {},
   "source": [
    "- Remove comma values in `Salary_In_Rupees`\n",
    "\n",
    "- Convert the column to `float` data type\n",
    "\n",
    "- Create a new column by converting the currency"
   ]
  },
  {
   "cell_type": "markdown",
   "metadata": {},
   "source": [
    "**To remove commas, we can use the pandas Series-dot-string-dot-replace method.** \n",
    "- We first pass the characters we want to remove, followed by the characters to replace them with. \n",
    "- As we don't want to add characters back in, when we update the column we provide an empty string in this part of the method. \n",
    "- Printing the first five rows of this column, we see the commas have been removed. \n",
    "- However, the column is still object data type."
   ]
  },
  {
   "cell_type": "code",
   "execution_count": null,
   "metadata": {},
   "outputs": [],
   "source": [
    "# Replace characters in a pandas Series\n",
    "pd.Series.str.replace(\"characters to remove\", \"characters to replace them with\")\n",
    "\n",
    "# Replace commas with empty strings in the \"Salary_In_Rupees\" column of the salaries DataFrame.\n",
    "salaries[\"Salary_In_Rupees\"] = salaries[\"Salary_In_Rupees\"].str.replace(\",\", \"\")\n",
    "print(salary[\"Salary_In_Rupees\"].head())"
   ]
  },
  {
   "cell_type": "code",
   "execution_count": null,
   "metadata": {
    "vscode": {
     "languageId": "sql"
    }
   },
   "outputs": [],
   "source": [
    "1     20688070.00\n",
    "2     8674985.00\n",
    "3     1591390.00\n",
    "4    11935425.00\n",
    "5     5729004.00\n",
    "Name: Salary_In_Rupees, dtype: object"
   ]
  },
  {
   "cell_type": "markdown",
   "metadata": {},
   "source": [
    "**We update the data type to float.** \n",
    "\n",
    "- We've looked up the conversation rate from Indian rupees to US dollars, and currently one rupee is worth one-point-two cents. \n",
    "- To create the Salary_USD column we multiply the values in the rupees column by zero-point-zero-one-two."
   ]
  },
  {
   "cell_type": "code",
   "execution_count": null,
   "metadata": {},
   "outputs": [],
   "source": [
    "# Convert the 'Salary_In_Rupees' column to float data type.\n",
    "salaries[\"Salary_In_Rupees\"] = salaries[\"Salary_In_Rupees\"].astype(float)"
   ]
  },
  {
   "cell_type": "markdown",
   "metadata": {},
   "source": [
    "- 1 Indian Rupee = 0.012 US Dollars"
   ]
  },
  {
   "cell_type": "code",
   "execution_count": null,
   "metadata": {},
   "outputs": [],
   "source": [
    "salaries[\"Salary_USD\"] = salaries[\"Salary_In_Rupees\"] * 0.012"
   ]
  },
  {
   "cell_type": "markdown",
   "metadata": {},
   "source": [
    "**Previewing the new column**"
   ]
  },
  {
   "cell_type": "markdown",
   "metadata": {},
   "source": [
    "- Printing the first five rows of the original and new column, we can see that values in Salary_USD are equal to one-point-two percent of the Salary_In_Rupees column."
   ]
  },
  {
   "cell_type": "code",
   "execution_count": null,
   "metadata": {},
   "outputs": [],
   "source": [
    "print(salaries[[\"Salary_In_Rupees\", \"Salary_USD\"]].head())"
   ]
  },
  {
   "cell_type": "code",
   "execution_count": null,
   "metadata": {
    "vscode": {
     "languageId": "sql"
    }
   },
   "outputs": [],
   "source": [
    "Salary_In_Rupees  Salary_USD\n",
    "0    20688070.0   248256.840\n",
    "1     8674985.0   104099.820\n",
    "2     1591390.0    19096.680\n",
    "3    11935425.0   143225.100\n",
    "4     5729004.0    68748.048"
   ]
  },
  {
   "cell_type": "markdown",
   "metadata": {},
   "source": [
    "**Adding summary statistics into a DataFrame**"
   ]
  },
  {
   "cell_type": "markdown",
   "metadata": {},
   "source": [
    "- Recall that we've previously used pandas' groupby function to calculate summary statistics. \n",
    "- Here, we find the mean salary in US dollars by company size. \n",
    "- While this is useful, sometimes we might prefer to add summary statistics directly into our DataFrame, rather than creating a summary table."
   ]
  },
  {
   "cell_type": "code",
   "execution_count": null,
   "metadata": {},
   "outputs": [],
   "source": [
    "# Calculate the mean salary for each company size.\n",
    "salaries.groupby(\"Company_Size\")[\"Salary_USD\"].mean()"
   ]
  },
  {
   "cell_type": "code",
   "execution_count": null,
   "metadata": {
    "vscode": {
     "languageId": "sql"
    }
   },
   "outputs": [],
   "source": [
    "Company_Size\n",
    "L    111934.432174\n",
    "M    110706.628527\n",
    "S     69880.980179\n",
    "Name: Salary_USD, dtype: float64"
   ]
  },
  {
   "cell_type": "markdown",
   "metadata": {},
   "source": [
    "- Let's say we would like to create a new column containing the standard deviation of Salary_USD, where values are conditional based on the Experience column. \n",
    "- The first step still involves a groupby, done here with the Experience column."
   ]
  },
  {
   "attachments": {
    "image.png": {
     "image/png": "[encoded data removed]"
    }
   },
   "cell_type": "markdown",
   "metadata": {},
   "source": [
    "![image.png](attachment:image.png)"
   ]
  },
  {
   "cell_type": "code",
   "execution_count": null,
   "metadata": {},
   "outputs": [],
   "source": [
    "# Calculate the standard deviation of salary for each experience level\n",
    "salaries[\"std_dev\"] = salaries.groupby(\"Experience\")[\"Salary_USD\"].transform(lambda x: x.std())"
   ]
  },
  {
   "cell_type": "markdown",
   "metadata": {},
   "source": [
    "- We can select more than one column and use the value_counts method. \n",
    "- This prints the combinations of values for the columns we have chosen, in this case Experience and newly created std_dev columns. \n",
    "- For example, there are 257 rows with SE, or Senior-level, experience, and the standard deviation in salary for this group is nearly 53000 dollars. Unsurprisingly, there appears to be a larger variation in salary associated with the most senior role, Executive."
   ]
  },
  {
   "cell_type": "code",
   "execution_count": null,
   "metadata": {},
   "outputs": [],
   "source": [
    "# Assuming 'salaries' is a pandas DataFrame with columns 'Experience' and 'std_dev'\n",
    "print(salaries[[\"Experience\", \"std_dev\"]].value_counts())"
   ]
  },
  {
   "cell_type": "code",
   "execution_count": null,
   "metadata": {
    "vscode": {
     "languageId": "sql"
    }
   },
   "outputs": [],
   "source": [
    "Experience    std_dev          \n",
    "SE            52995.385395     257\n",
    "MI            63217.397343     197\n",
    "EN            43367.256303     83\n",
    "EX            86426.611619     24"
   ]
  },
  {
   "cell_type": "markdown",
   "metadata": {},
   "source": [
    "- We can repeat this process for other summary statistics! \n",
    "- Here, we add a column for the median salary based on company size. \n",
    "- We use a backslash to split our code over two lines, otherwise it is quite long and difficult to read. \n",
    "- Previewing the two columns of interest we see the values have been mapped correctly and that medium-sized companies have the largest median salary!"
   ]
  },
  {
   "cell_type": "code",
   "execution_count": null,
   "metadata": {},
   "outputs": [],
   "source": [
    "salaries [\"median_by_comp_size\"] = salaries.groupby(\"Company_Size\") \\ \n",
    "                                        [\"Salary_USD\"].transform(lambda x: x.median())"
   ]
  },
  {
   "cell_type": "code",
   "execution_count": null,
   "metadata": {},
   "outputs": [],
   "source": [
    "# Print the first few rows of the 'Company_Size' and 'median_by_comp_size' columns from the 'salaries' DataFrame.\n",
    "print(salaries[[\"Company_Size\", \"median_by_comp_size\"]].head())"
   ]
  },
  {
   "cell_type": "code",
   "execution_count": null,
   "metadata": {
    "vscode": {
     "languageId": "sql"
    }
   },
   "outputs": [],
   "source": [
    "  Company_Size   median_by_comp_size\n",
    "0            S             60833.424\n",
    "1            M            105914.964\n",
    "2            S             60833.424\n",
    "3            L             95483.400\n",
    "4            L             95483.400"
   ]
  }
 ],
 "metadata": {
  "language_info": {
   "name": "python"
  }
 },
 "nbformat": 4,
 "nbformat_minor": 2
}
