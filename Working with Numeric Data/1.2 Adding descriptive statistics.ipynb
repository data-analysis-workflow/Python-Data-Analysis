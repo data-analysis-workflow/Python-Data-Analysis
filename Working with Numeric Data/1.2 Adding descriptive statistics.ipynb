{
 "cells": [
  {
   "cell_type": "markdown",
   "metadata": {},
   "source": [
    "# **Adding descriptive statistics**"
   ]
  },
  {
   "cell_type": "markdown",
   "metadata": {},
   "source": [
    "- Now \"Duration\" and \"Price\" both contain numeric values in the planes DataFrame, you would like to calculate summary statistics for them that are conditional on values in other columns."
   ]
  },
  {
   "cell_type": "markdown",
   "metadata": {},
   "source": [
    "**Instructions**\n",
    "\n",
    "- Add a column to planes containing the standard deviation of \"Price\" based on \"Airline\"."
   ]
  },
  {
   "cell_type": "code",
   "execution_count": null,
   "metadata": {},
   "outputs": [],
   "source": [
    "# Price standard deviation by Airline\n",
    "planes[\"airline_price_st_dev\"] = planes.groupby(\"Airline\")[\"Price\"].transform(lambda x: x.std())\n",
    "\n",
    "print(planes[[\"Airline\", \"airline_price_st_dev\"]].value_counts())"
   ]
  },
  {
   "cell_type": "code",
   "execution_count": null,
   "metadata": {
    "vscode": {
     "languageId": "sql"
    }
   },
   "outputs": [],
   "source": [
    "Airline            airline_price_st_dev\n",
    "Jet Airways        4230.749                3685\n",
    "IndiGo             2266.754                1981\n",
    "Air India          3865.872                1686\n",
    "Multiple carriers  3763.675                1148\n",
    "SpiceJet           1790.852                 787\n",
    "Vistara            2864.268                 455\n",
    "Air Asia           2016.739                 309\n",
    "GoAir              2790.815                 182\n",
    "dtype: int64"
   ]
  },
  {
   "cell_type": "markdown",
   "metadata": {},
   "source": [
    "**Instructions**\n",
    "\n",
    "- Calculate the median for \"Duration\" by \"Airline\", storing it as a column called \"airline_median_duration\""
   ]
  },
  {
   "cell_type": "code",
   "execution_count": null,
   "metadata": {},
   "outputs": [],
   "source": [
    "# Median Duration by Airline\n",
    "planes[\"airline_median_duration\"] = planes.groupby(\"Airline\")[\"Duration\"].transform(lambda x: x.median())\n",
    "\n",
    "print(planes[[\"Airline\",\"airline_median_duration\"]].value_counts())"
   ]
  },
  {
   "cell_type": "code",
   "execution_count": null,
   "metadata": {
    "vscode": {
     "languageId": "sql"
    }
   },
   "outputs": [],
   "source": [
    "Airline             airline_median_duration\n",
    "Jet Airways         13.333                  3685\n",
    "IndiGo              2.917                   1981\n",
    "Air India           15.917                  1686\n",
    "Multiple carriers   10.250                  1148\n",
    "SpiceJet            2.500                   787\n",
    "Vistara             3.167                   455\n",
    "Air Asia            2.833                   309\n",
    "GoAir               5.167                   182\n",
    "dtype: int64"
   ]
  },
  {
   "cell_type": "markdown",
   "metadata": {},
   "source": [
    "**Instructions**\n",
    "\n",
    "- Find the mean \"Price\" by \"Destination\", saving it as a column called \"price_destination_mean\"."
   ]
  },
  {
   "cell_type": "code",
   "execution_count": null,
   "metadata": {},
   "outputs": [],
   "source": [
    "# Mean Price by Destination\n",
    "planes[\"price_destination_mean\"] = planes.groupby(\"Destination\")[\"Price\"].transform(lambda x: x.mean())\n",
    "\n",
    "print(planes[[\"Destination\",\"price_destination_mean\"]].value_counts())"
   ]
  },
  {
   "cell_type": "code",
   "execution_count": null,
   "metadata": {
    "vscode": {
     "languageId": "sql"
    }
   },
   "outputs": [],
   "source": [
    "Destination   price_destination_mean\n",
    "Cochin        10506.993               4391\n",
    "Banglore      9132.225                2773\n",
    "Delhi         5157.794                1219\n",
    "New Delhi     11738.589               888\n",
    "Hyderabad     5025.210                673\n",
    "Kolkata       4801.490                369\n",
    "dtype: int64"
   ]
  }
 ],
 "metadata": {
  "language_info": {
   "name": "python"
  }
 },
 "nbformat": 4,
 "nbformat_minor": 2
}
