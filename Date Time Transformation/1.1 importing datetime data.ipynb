{
 "cells": [
  {
   "cell_type": "markdown",
   "metadata": {},
   "source": [
    "# **Importing DateTime data**"
   ]
  },
  {
   "cell_type": "markdown",
   "metadata": {},
   "source": [
    "- You'll now work with the entire divorce dataset! The data describes Mexican marriages dissolved between 2000 and 2015. It contains marriage and divorce dates, education level, birthday, income for each partner, and marriage duration, as well as the number of children the couple had at the time of divorce.\n",
    "\n",
    "- The column names and data types are as follows:"
   ]
  },
  {
   "cell_type": "code",
   "execution_count": null,
   "metadata": {
    "vscode": {
     "languageId": "sql"
    }
   },
   "outputs": [],
   "source": [
    "divorce_date          object\n",
    "dob_man               object\n",
    "education_man         object\n",
    "income_man           float64\n",
    "dob_woman             object\n",
    "education_woman       object\n",
    "income_woman         float64\n",
    "marriage_date         object\n",
    "marriage_duration    float64\n",
    "num_kids             float64"
   ]
  },
  {
   "cell_type": "markdown",
   "metadata": {},
   "source": [
    "- It looks like there is a lot of date information in this data that is not yet a DateTime data type! Your task is to fix that so that you can explore patterns over time.\n",
    "\n",
    "- pandas has been imported as pd."
   ]
  },
  {
   "cell_type": "markdown",
   "metadata": {},
   "source": [
    "**Instructions**\n",
    "\n",
    "- Import divorce.csv, saving as a DataFrame, divorce; indicate in the import function that the divorce_date, dob_man, dob_woman, and marriage_date columns should be imported as DateTime values."
   ]
  },
  {
   "cell_type": "code",
   "execution_count": null,
   "metadata": {},
   "outputs": [],
   "source": [
    "# Import divorce.csv, parsing the appropriate columns as dates in the import\n",
    "divorce = pd.read_csv(\"divorce.csv\", parse_dates=[\"divorce_date\", \"marriage_date\", \"dob_man\", \"dob_woman\"])\n",
    "print(divorce.dtypes)"
   ]
  },
  {
   "cell_type": "code",
   "execution_count": null,
   "metadata": {
    "vscode": {
     "languageId": "sql"
    }
   },
   "outputs": [],
   "source": [
    "divorce_date         datetime64[ns]\n",
    "dob_man              datetime64[ns]\n",
    "education_man                object\n",
    "income_man                  float64\n",
    "dob_woman            datetime64[ns]\n",
    "education_woman              object\n",
    "income_woman                float64\n",
    "marriage_date        datetime64[ns]\n",
    "marriage_duration           float64\n",
    "num_kids                    float64\n",
    "dtype: object"
   ]
  }
 ],
 "metadata": {
  "language_info": {
   "name": "python"
  }
 },
 "nbformat": 4,
 "nbformat_minor": 2
}
