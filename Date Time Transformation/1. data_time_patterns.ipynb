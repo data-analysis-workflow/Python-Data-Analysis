{
 "cells": [
  {
   "cell_type": "markdown",
   "metadata": {},
   "source": [
    "# **Patterns over time**"
   ]
  },
  {
   "cell_type": "markdown",
   "metadata": {},
   "source": [
    "- To illustrate, we'll be working with a subset of a dataset about divorce filings taking place in Mexico from 2000 until 2015. \n",
    "- This data contains columns for marriage date and marriage duration in years."
   ]
  },
  {
   "cell_type": "code",
   "execution_count": null,
   "metadata": {},
   "outputs": [],
   "source": [
    "# import pandas library\n",
    "import pandas as pd\n",
    "\n",
    "# read the divorce.csv file into a pandas DataFrame\n",
    "divorce = pd.read_csv(\"divorce.csv\")\n",
    "\n",
    "# display the first few rows of the DataFrame\n",
    "divorce.head()"
   ]
  },
  {
   "cell_type": "code",
   "execution_count": null,
   "metadata": {
    "vscode": {
     "languageId": "sql"
    }
   },
   "outputs": [],
   "source": [
    "marriage_date  marriage_duration\n",
    "0    2000-06-26               5.0\n",
    "1    2000-02-02               2.0\n",
    "2    1991-10-09              10.0\n",
    "3    1993-01-02              10.0\n",
    "4    1998-12-11               7.0"
   ]
  },
  {
   "cell_type": "markdown",
   "metadata": {},
   "source": [
    "# **Importing DateTime data**"
   ]
  },
  {
   "cell_type": "markdown",
   "metadata": {},
   "source": [
    "- Before we can begin to look at potential patterns over time, we need to help pandas understand that data in a given column is in fact date or time data. \n",
    "- When a CSV file is imported into pandas, date and time data are typically interpreted as strings, as we see here."
   ]
  },
  {
   "cell_type": "markdown",
   "metadata": {},
   "source": [
    "- DateTime data needs to be explicitly declared to Pandas"
   ]
  },
  {
   "cell_type": "code",
   "execution_count": null,
   "metadata": {},
   "outputs": [],
   "source": [
    "divorce.dtypes"
   ]
  },
  {
   "cell_type": "code",
   "execution_count": null,
   "metadata": {
    "vscode": {
     "languageId": "sql"
    }
   },
   "outputs": [],
   "source": [
    "marriage_date     object\n",
    "marriage_duration float64\n",
    "dtype: object"
   ]
  },
  {
   "cell_type": "markdown",
   "metadata": {},
   "source": [
    "- We can fix that by adding the parse_dates keyword argument to the CSV import and setting it equal to a list of column names that should be interpreted as DateTime data. \n",
    "- Now, when we check the data types of the imported CSV, the indicated column is a DateTime object. \n",
    "- This data type opens up many possibilities for analysis, such as looking at patterns over years, months, or even days of the week."
   ]
  },
  {
   "cell_type": "code",
   "execution_count": null,
   "metadata": {},
   "outputs": [],
   "source": [
    "# Import pandas library\n",
    "import pandas as pd\n",
    "\n",
    "# Read the CSV file 'divorce.csv' and parse 'marriage_date' column as dates.\n",
    "divorce = pd.read_csv(\"divorce.csv\", parse_dates=[\"marriage_date\"])\n",
    "\n",
    "# Print the data types of each column in the DataFrame.\n",
    "divorce.dtypes"
   ]
  },
  {
   "cell_type": "code",
   "execution_count": null,
   "metadata": {
    "vscode": {
     "languageId": "sql"
    }
   },
   "outputs": [],
   "source": [
    "marriage_date                 datetime64[ns]\n",
    "marriage_duration              float64\n",
    "dtype: object"
   ]
  },
  {
   "cell_type": "markdown",
   "metadata": {},
   "source": [
    "# **Converting to DateTime data**"
   ]
  },
  {
   "cell_type": "markdown",
   "metadata": {},
   "source": [
    "- Of course, we may wish to update data types to DateTime data after we import the data. \n",
    "- This is possible with pd-dot-to_datetime, which converts the argument passed to it to DateTime data. \n",
    "- Here, we pass the marriage_date column with values stored as strings to pd-dot-to_datetime. \n",
    "- This returns DateTime data which we save as the new marriage_date column."
   ]
  },
  {
   "cell_type": "markdown",
   "metadata": {},
   "source": [
    "- `pd.to_datetime()` converts arguments to DateTime data"
   ]
  },
  {
   "cell_type": "code",
   "execution_count": null,
   "metadata": {},
   "outputs": [],
   "source": [
    "# Convert the 'marriage_date' column to datetime objects\n",
    "divorce[\"marriage_date\"] = pd.to_datetime(divorce[\"marriage_date\"])\n",
    "\n",
    "# Display the data types of each column in the DataFrame\n",
    "divorce.dtypes"
   ]
  },
  {
   "cell_type": "code",
   "execution_count": null,
   "metadata": {
    "vscode": {
     "languageId": "sql"
    }
   },
   "outputs": [],
   "source": [
    "marriage_date        datetime64[ns]\n",
    "marriage_duration      float64\n",
    "dtype: object"
   ]
  },
  {
   "cell_type": "markdown",
   "metadata": {},
   "source": [
    "# **Creating DateTime data**"
   ]
  },
  {
   "cell_type": "markdown",
   "metadata": {},
   "source": [
    "- pd-dot-to_datetime has lots of other useful functionality. \n",
    "- For example, if a DataFrame has month, day, and year data stored in three different columns, as this one does, we can combine these columns into a single DateTime value by passing them to pd-dot-to_datetime. \n",
    "- Note that for this trick to work, columns must be named \"month\", \"day\", and \"year\", but can appear in any order in the DataFrame."
   ]
  },
  {
   "cell_type": "code",
   "execution_count": null,
   "metadata": {},
   "outputs": [],
   "source": [
    "divorce.head(2)"
   ]
  },
  {
   "cell_type": "code",
   "execution_count": null,
   "metadata": {
    "vscode": {
     "languageId": "sql"
    }
   },
   "outputs": [],
   "source": [
    "   month  day  year  marriage_duration\n",
    "0      6   26  2000                5.0\n",
    "1      2    2  2000                2.0"
   ]
  },
  {
   "cell_type": "code",
   "execution_count": null,
   "metadata": {},
   "outputs": [],
   "source": [
    "# Convert 'marriage_date' column to datetime objects\n",
    "divorce[\"marriage_date\"] = pd.to_datetime(divorce[[\"month\", \"day\", \"year\"]])\n",
    "\n",
    "# Display the first 2 rows of the dataframe\n",
    "divorce.head(2)"
   ]
  },
  {
   "cell_type": "code",
   "execution_count": null,
   "metadata": {
    "vscode": {
     "languageId": "sql"
    }
   },
   "outputs": [],
   "source": [
    "   month  day  year  marriage_duration  marriage_date\n",
    "0      6   26  2000               5.0     2000-06-26\n",
    "1      2    2  2000               2.0     2000-02-02"
   ]
  },
  {
   "cell_type": "markdown",
   "metadata": {},
   "source": [
    "- Conversely, we might want to extract just the month, day, or year from a column containing a full date. \n",
    "- If data is already stored in DateTime format, as marriage_date is, we can append dot-dt-dot-month to extract the month attribute, for example. \n",
    "- We'll save the month data as a new column in the DataFrame so that we can use it in our analysis."
   ]
  },
  {
   "cell_type": "markdown",
   "metadata": {},
   "source": [
    "- Extract parts of a full date using `dt.month`, `dt.day`, and `dt.year` attributes"
   ]
  },
  {
   "cell_type": "code",
   "execution_count": null,
   "metadata": {},
   "outputs": [],
   "source": [
    "# Extract the month from the 'marriage_date' column and store it in a new 'marriage_month' column.\n",
    "divorce[\"marriage_month\"] = divorce[\"marriage_date\"].dt.month\n",
    "\n",
    "# Display the first few rows of the dataframe to verify the changes.\n",
    "divorce.head()"
   ]
  },
  {
   "cell_type": "code",
   "execution_count": null,
   "metadata": {
    "vscode": {
     "languageId": "sql"
    }
   },
   "outputs": [],
   "source": [
    "  marriage_date  marriage_duration  marriage_month\n",
    "0    2000-06-26               5.0               6\n",
    "1    2000-02-02               2.0               2\n",
    "2    1991-10-09              10.0              10\n",
    "3    1993-01-02              10.0               1\n",
    "4    1998-12-11               7.0              12"
   ]
  },
  {
   "cell_type": "markdown",
   "metadata": {},
   "source": [
    "# **Visualizing patterns over time**"
   ]
  },
  {
   "cell_type": "markdown",
   "metadata": {},
   "source": [
    "- Line plots are a great way to examine relationships between variables. \n",
    "- In Seaborn, line plots aggregate y values at each value of x and show the estimated mean and a confidence interval for that estimate. \n",
    "- Perhaps we'd like to check whether there is any relationship between the month that a now-divorced couple got married and the length of their marriage. \n",
    "- We can set x equal to the marriage_month column and y equal to marriage_duration. \n",
    "- The results show some variation in mean marriage duration between months. \n",
    "- The blue line represents the mean marriage duration for our dataset, while the confidence intervals in the lighter blue shading indicate the area that, with 95% probability, the population mean duration could fall between. \n",
    "- The wide confidence intervals suggest that further analysis is needed!"
   ]
  },
  {
   "cell_type": "code",
   "execution_count": null,
   "metadata": {},
   "outputs": [],
   "source": [
    "# Create the line plot\n",
    "sns.lineplot(data=divorce, x=\"marriage_month\", y=\"marriage_duration\")\n",
    "\n",
    "# Display the plot\n",
    "plt.show()"
   ]
  },
  {
   "attachments": {
    "image.png": {
     "image/png": "[encoded data removed]"
    }
   },
   "cell_type": "markdown",
   "metadata": {},
   "source": [
    "![image.png](attachment:image.png)"
   ]
  }
 ],
 "metadata": {
  "language_info": {
   "name": "python"
  }
 },
 "nbformat": 4,
 "nbformat_minor": 2
}
